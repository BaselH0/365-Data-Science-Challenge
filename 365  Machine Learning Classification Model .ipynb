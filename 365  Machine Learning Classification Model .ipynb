{
 "cells": [
  {
   "cell_type": "code",
   "execution_count": 1,
   "metadata": {},
   "outputs": [],
   "source": [
    "import pandas as pd\n",
    "import seaborn as sns\n",
    "import matplotlib.pyplot as plt\n",
    "from sklearn.model_selection import train_test_split\n",
    "from sklearn.linear_model import LogisticRegression\n",
    "from sklearn.neighbors import KNeighborsClassifier\n",
    "from sklearn.naive_bayes import GaussianNB\n",
    "from sklearn.tree import DecisionTreeClassifier\n",
    "from sklearn.ensemble import RandomForestClassifier\n",
    "from xgboost import XGBClassifier\n",
    "from sklearn.svm import SVC\n",
    "from sklearn.metrics import confusion_matrix,accuracy_score,recall_score,precision_score,f1_score,fbeta_score,classification_report\n",
    "from imblearn.over_sampling import SMOTE\n",
    "from sklearn.preprocessing import StandardScaler\n",
    "from sklearn.tree import DecisionTreeClassifier\n",
    "from sklearn.svm import SVC\n",
    "from sklearn.ensemble import RandomForestClassifier\n",
    "from sklearn.model_selection import cross_val_predict,cross_val_score,cross_validate\n",
    "from imblearn.under_sampling import RandomUnderSampler\n",
    "import scikitplot as skplt\n",
    "import sys\n",
    "import warnings"
   ]
  },
  {
   "cell_type": "code",
   "execution_count": 2,
   "metadata": {},
   "outputs": [],
   "source": [
    "df1=pd.read_csv('365_course_ratings.csv')\n",
    "df2=pd.read_csv('365_student_quizzes.csv')\n",
    "df3=pd.read_csv('365_quiz_info.csv')\n",
    "df4=pd.read_csv('365_exam_info.csv')\n",
    "df5=pd.read_csv('365_course_info.csv')\n",
    "df6=pd.read_csv('365_student_purchases.csv')\n",
    "df7=pd.read_csv('365_student_learning.csv')\n",
    "df8=pd.read_csv('365_student_info.csv')\n",
    "df9=pd.read_csv('365_student_hub_questions.csv')\n",
    "df10=pd.read_csv('365_student_engagement.csv')\n",
    "df11=pd.read_csv('365_student_exams.csv')"
   ]
  },
  {
   "cell_type": "code",
   "execution_count": 3,
   "metadata": {},
   "outputs": [
    {
     "data": {
      "text/html": [
       "<div>\n",
       "<style scoped>\n",
       "    .dataframe tbody tr th:only-of-type {\n",
       "        vertical-align: middle;\n",
       "    }\n",
       "\n",
       "    .dataframe tbody tr th {\n",
       "        vertical-align: top;\n",
       "    }\n",
       "\n",
       "    .dataframe thead th {\n",
       "        text-align: right;\n",
       "    }\n",
       "</style>\n",
       "<table border=\"1\" class=\"dataframe\">\n",
       "  <thead>\n",
       "    <tr style=\"text-align: right;\">\n",
       "      <th></th>\n",
       "      <th>course_id</th>\n",
       "      <th>student_id</th>\n",
       "      <th>course_rating</th>\n",
       "      <th>date_rated</th>\n",
       "    </tr>\n",
       "  </thead>\n",
       "  <tbody>\n",
       "    <tr>\n",
       "      <th>2311</th>\n",
       "      <td>21</td>\n",
       "      <td>292815</td>\n",
       "      <td>5</td>\n",
       "      <td>2022-10-15</td>\n",
       "    </tr>\n",
       "  </tbody>\n",
       "</table>\n",
       "</div>"
      ],
      "text/plain": [
       "      course_id  student_id  course_rating  date_rated\n",
       "2311         21      292815              5  2022-10-15"
      ]
     },
     "execution_count": 3,
     "metadata": {},
     "output_type": "execute_result"
    }
   ],
   "source": [
    "df1.sample(1)"
   ]
  },
  {
   "cell_type": "code",
   "execution_count": 4,
   "metadata": {},
   "outputs": [
    {
     "data": {
      "text/html": [
       "<div>\n",
       "<style scoped>\n",
       "    .dataframe tbody tr th:only-of-type {\n",
       "        vertical-align: middle;\n",
       "    }\n",
       "\n",
       "    .dataframe tbody tr th {\n",
       "        vertical-align: top;\n",
       "    }\n",
       "\n",
       "    .dataframe thead th {\n",
       "        text-align: right;\n",
       "    }\n",
       "</style>\n",
       "<table border=\"1\" class=\"dataframe\">\n",
       "  <thead>\n",
       "    <tr style=\"text-align: right;\">\n",
       "      <th></th>\n",
       "      <th>student_id</th>\n",
       "      <th>quiz_id</th>\n",
       "      <th>question_id</th>\n",
       "      <th>answer_id</th>\n",
       "    </tr>\n",
       "  </thead>\n",
       "  <tbody>\n",
       "    <tr>\n",
       "      <th>141643</th>\n",
       "      <td>294273</td>\n",
       "      <td>45</td>\n",
       "      <td>822</td>\n",
       "      <td>3249.0</td>\n",
       "    </tr>\n",
       "  </tbody>\n",
       "</table>\n",
       "</div>"
      ],
      "text/plain": [
       "        student_id  quiz_id  question_id  answer_id\n",
       "141643      294273       45          822     3249.0"
      ]
     },
     "execution_count": 4,
     "metadata": {},
     "output_type": "execute_result"
    }
   ],
   "source": [
    "df2.sample(1)"
   ]
  },
  {
   "cell_type": "code",
   "execution_count": 5,
   "metadata": {},
   "outputs": [
    {
     "data": {
      "text/html": [
       "<div>\n",
       "<style scoped>\n",
       "    .dataframe tbody tr th:only-of-type {\n",
       "        vertical-align: middle;\n",
       "    }\n",
       "\n",
       "    .dataframe tbody tr th {\n",
       "        vertical-align: top;\n",
       "    }\n",
       "\n",
       "    .dataframe thead th {\n",
       "        text-align: right;\n",
       "    }\n",
       "</style>\n",
       "<table border=\"1\" class=\"dataframe\">\n",
       "  <thead>\n",
       "    <tr style=\"text-align: right;\">\n",
       "      <th></th>\n",
       "      <th>quiz_id</th>\n",
       "      <th>question_id</th>\n",
       "      <th>answer_id</th>\n",
       "      <th>answer_correct</th>\n",
       "    </tr>\n",
       "  </thead>\n",
       "  <tbody>\n",
       "    <tr>\n",
       "      <th>2592</th>\n",
       "      <td>442</td>\n",
       "      <td>666</td>\n",
       "      <td>2593</td>\n",
       "      <td>n</td>\n",
       "    </tr>\n",
       "  </tbody>\n",
       "</table>\n",
       "</div>"
      ],
      "text/plain": [
       "      quiz_id  question_id  answer_id answer_correct\n",
       "2592      442          666       2593              n"
      ]
     },
     "execution_count": 5,
     "metadata": {},
     "output_type": "execute_result"
    }
   ],
   "source": [
    "df3.sample(1)"
   ]
  },
  {
   "cell_type": "code",
   "execution_count": 6,
   "metadata": {},
   "outputs": [
    {
     "data": {
      "text/html": [
       "<div>\n",
       "<style scoped>\n",
       "    .dataframe tbody tr th:only-of-type {\n",
       "        vertical-align: middle;\n",
       "    }\n",
       "\n",
       "    .dataframe tbody tr th {\n",
       "        vertical-align: top;\n",
       "    }\n",
       "\n",
       "    .dataframe thead th {\n",
       "        text-align: right;\n",
       "    }\n",
       "</style>\n",
       "<table border=\"1\" class=\"dataframe\">\n",
       "  <thead>\n",
       "    <tr style=\"text-align: right;\">\n",
       "      <th></th>\n",
       "      <th>exam_id</th>\n",
       "      <th>exam_category</th>\n",
       "      <th>exam_duration</th>\n",
       "    </tr>\n",
       "  </thead>\n",
       "  <tbody>\n",
       "    <tr>\n",
       "      <th>143</th>\n",
       "      <td>821</td>\n",
       "      <td>2</td>\n",
       "      <td>8</td>\n",
       "    </tr>\n",
       "  </tbody>\n",
       "</table>\n",
       "</div>"
      ],
      "text/plain": [
       "     exam_id  exam_category  exam_duration\n",
       "143      821              2              8"
      ]
     },
     "execution_count": 6,
     "metadata": {},
     "output_type": "execute_result"
    }
   ],
   "source": [
    "df4.sample(1)"
   ]
  },
  {
   "cell_type": "code",
   "execution_count": 7,
   "metadata": {},
   "outputs": [
    {
     "data": {
      "text/html": [
       "<div>\n",
       "<style scoped>\n",
       "    .dataframe tbody tr th:only-of-type {\n",
       "        vertical-align: middle;\n",
       "    }\n",
       "\n",
       "    .dataframe tbody tr th {\n",
       "        vertical-align: top;\n",
       "    }\n",
       "\n",
       "    .dataframe thead th {\n",
       "        text-align: right;\n",
       "    }\n",
       "</style>\n",
       "<table border=\"1\" class=\"dataframe\">\n",
       "  <thead>\n",
       "    <tr style=\"text-align: right;\">\n",
       "      <th></th>\n",
       "      <th>course_id</th>\n",
       "      <th>course_title</th>\n",
       "    </tr>\n",
       "  </thead>\n",
       "  <tbody>\n",
       "    <tr>\n",
       "      <th>37</th>\n",
       "      <td>49</td>\n",
       "      <td>Linear Algebra and Feature Selection</td>\n",
       "    </tr>\n",
       "  </tbody>\n",
       "</table>\n",
       "</div>"
      ],
      "text/plain": [
       "    course_id                          course_title\n",
       "37         49  Linear Algebra and Feature Selection"
      ]
     },
     "execution_count": 7,
     "metadata": {},
     "output_type": "execute_result"
    }
   ],
   "source": [
    "df5.sample(1)"
   ]
  },
  {
   "cell_type": "code",
   "execution_count": 8,
   "metadata": {},
   "outputs": [
    {
     "data": {
      "text/html": [
       "<div>\n",
       "<style scoped>\n",
       "    .dataframe tbody tr th:only-of-type {\n",
       "        vertical-align: middle;\n",
       "    }\n",
       "\n",
       "    .dataframe tbody tr th {\n",
       "        vertical-align: top;\n",
       "    }\n",
       "\n",
       "    .dataframe thead th {\n",
       "        text-align: right;\n",
       "    }\n",
       "</style>\n",
       "<table border=\"1\" class=\"dataframe\">\n",
       "  <thead>\n",
       "    <tr style=\"text-align: right;\">\n",
       "      <th></th>\n",
       "      <th>purchase_id</th>\n",
       "      <th>student_id</th>\n",
       "      <th>purchase_type</th>\n",
       "      <th>date_purchased</th>\n",
       "    </tr>\n",
       "  </thead>\n",
       "  <tbody>\n",
       "    <tr>\n",
       "      <th>843</th>\n",
       "      <td>18265</td>\n",
       "      <td>269633</td>\n",
       "      <td>Monthly</td>\n",
       "      <td>2022-04-04</td>\n",
       "    </tr>\n",
       "  </tbody>\n",
       "</table>\n",
       "</div>"
      ],
      "text/plain": [
       "     purchase_id  student_id purchase_type date_purchased\n",
       "843        18265      269633       Monthly     2022-04-04"
      ]
     },
     "execution_count": 8,
     "metadata": {},
     "output_type": "execute_result"
    }
   ],
   "source": [
    "df6.sample(1)"
   ]
  },
  {
   "cell_type": "code",
   "execution_count": 9,
   "metadata": {},
   "outputs": [
    {
     "data": {
      "text/html": [
       "<div>\n",
       "<style scoped>\n",
       "    .dataframe tbody tr th:only-of-type {\n",
       "        vertical-align: middle;\n",
       "    }\n",
       "\n",
       "    .dataframe tbody tr th {\n",
       "        vertical-align: top;\n",
       "    }\n",
       "\n",
       "    .dataframe thead th {\n",
       "        text-align: right;\n",
       "    }\n",
       "</style>\n",
       "<table border=\"1\" class=\"dataframe\">\n",
       "  <thead>\n",
       "    <tr style=\"text-align: right;\">\n",
       "      <th></th>\n",
       "      <th>student_id</th>\n",
       "      <th>course_id</th>\n",
       "      <th>minutes_watched</th>\n",
       "      <th>date_watched</th>\n",
       "    </tr>\n",
       "  </thead>\n",
       "  <tbody>\n",
       "    <tr>\n",
       "      <th>918</th>\n",
       "      <td>259171</td>\n",
       "      <td>23</td>\n",
       "      <td>16.1</td>\n",
       "      <td>2022-02-04</td>\n",
       "    </tr>\n",
       "  </tbody>\n",
       "</table>\n",
       "</div>"
      ],
      "text/plain": [
       "     student_id  course_id  minutes_watched date_watched\n",
       "918      259171         23             16.1   2022-02-04"
      ]
     },
     "execution_count": 9,
     "metadata": {},
     "output_type": "execute_result"
    }
   ],
   "source": [
    "df7.sample(1)"
   ]
  },
  {
   "cell_type": "code",
   "execution_count": 10,
   "metadata": {},
   "outputs": [
    {
     "data": {
      "text/html": [
       "<div>\n",
       "<style scoped>\n",
       "    .dataframe tbody tr th:only-of-type {\n",
       "        vertical-align: middle;\n",
       "    }\n",
       "\n",
       "    .dataframe tbody tr th {\n",
       "        vertical-align: top;\n",
       "    }\n",
       "\n",
       "    .dataframe thead th {\n",
       "        text-align: right;\n",
       "    }\n",
       "</style>\n",
       "<table border=\"1\" class=\"dataframe\">\n",
       "  <thead>\n",
       "    <tr style=\"text-align: right;\">\n",
       "      <th></th>\n",
       "      <th>student_id</th>\n",
       "      <th>student_country</th>\n",
       "      <th>date_registered</th>\n",
       "    </tr>\n",
       "  </thead>\n",
       "  <tbody>\n",
       "    <tr>\n",
       "      <th>9615</th>\n",
       "      <td>268679</td>\n",
       "      <td>EG</td>\n",
       "      <td>2022-03-27</td>\n",
       "    </tr>\n",
       "  </tbody>\n",
       "</table>\n",
       "</div>"
      ],
      "text/plain": [
       "      student_id student_country date_registered\n",
       "9615      268679              EG      2022-03-27"
      ]
     },
     "execution_count": 10,
     "metadata": {},
     "output_type": "execute_result"
    }
   ],
   "source": [
    "df8.sample(1)"
   ]
  },
  {
   "cell_type": "code",
   "execution_count": 11,
   "metadata": {},
   "outputs": [
    {
     "data": {
      "text/html": [
       "<div>\n",
       "<style scoped>\n",
       "    .dataframe tbody tr th:only-of-type {\n",
       "        vertical-align: middle;\n",
       "    }\n",
       "\n",
       "    .dataframe tbody tr th {\n",
       "        vertical-align: top;\n",
       "    }\n",
       "\n",
       "    .dataframe thead th {\n",
       "        text-align: right;\n",
       "    }\n",
       "</style>\n",
       "<table border=\"1\" class=\"dataframe\">\n",
       "  <thead>\n",
       "    <tr style=\"text-align: right;\">\n",
       "      <th></th>\n",
       "      <th>hub_question_id</th>\n",
       "      <th>student_id</th>\n",
       "      <th>date_question_asked</th>\n",
       "    </tr>\n",
       "  </thead>\n",
       "  <tbody>\n",
       "    <tr>\n",
       "      <th>71</th>\n",
       "      <td>8222</td>\n",
       "      <td>261121</td>\n",
       "      <td>2022-03-04</td>\n",
       "    </tr>\n",
       "  </tbody>\n",
       "</table>\n",
       "</div>"
      ],
      "text/plain": [
       "    hub_question_id  student_id date_question_asked\n",
       "71             8222      261121          2022-03-04"
      ]
     },
     "execution_count": 11,
     "metadata": {},
     "output_type": "execute_result"
    }
   ],
   "source": [
    "df9.sample(1)"
   ]
  },
  {
   "cell_type": "code",
   "execution_count": 12,
   "metadata": {},
   "outputs": [
    {
     "data": {
      "text/html": [
       "<div>\n",
       "<style scoped>\n",
       "    .dataframe tbody tr th:only-of-type {\n",
       "        vertical-align: middle;\n",
       "    }\n",
       "\n",
       "    .dataframe tbody tr th {\n",
       "        vertical-align: top;\n",
       "    }\n",
       "\n",
       "    .dataframe thead th {\n",
       "        text-align: right;\n",
       "    }\n",
       "</style>\n",
       "<table border=\"1\" class=\"dataframe\">\n",
       "  <thead>\n",
       "    <tr style=\"text-align: right;\">\n",
       "      <th></th>\n",
       "      <th>engagement_id</th>\n",
       "      <th>student_id</th>\n",
       "      <th>engagement_quizzes</th>\n",
       "      <th>engagement_exams</th>\n",
       "      <th>engagement_lessons</th>\n",
       "      <th>date_engaged</th>\n",
       "    </tr>\n",
       "  </thead>\n",
       "  <tbody>\n",
       "    <tr>\n",
       "      <th>29824</th>\n",
       "      <td>670897</td>\n",
       "      <td>276261</td>\n",
       "      <td>0</td>\n",
       "      <td>0</td>\n",
       "      <td>1</td>\n",
       "      <td>2022-06-17</td>\n",
       "    </tr>\n",
       "  </tbody>\n",
       "</table>\n",
       "</div>"
      ],
      "text/plain": [
       "       engagement_id  student_id  engagement_quizzes  engagement_exams  \\\n",
       "29824         670897      276261                   0                 0   \n",
       "\n",
       "       engagement_lessons date_engaged  \n",
       "29824                   1   2022-06-17  "
      ]
     },
     "execution_count": 12,
     "metadata": {},
     "output_type": "execute_result"
    }
   ],
   "source": [
    "df10.sample(1)"
   ]
  },
  {
   "cell_type": "code",
   "execution_count": 13,
   "metadata": {},
   "outputs": [
    {
     "data": {
      "text/html": [
       "<div>\n",
       "<style scoped>\n",
       "    .dataframe tbody tr th:only-of-type {\n",
       "        vertical-align: middle;\n",
       "    }\n",
       "\n",
       "    .dataframe tbody tr th {\n",
       "        vertical-align: top;\n",
       "    }\n",
       "\n",
       "    .dataframe thead th {\n",
       "        text-align: right;\n",
       "    }\n",
       "</style>\n",
       "<table border=\"1\" class=\"dataframe\">\n",
       "  <thead>\n",
       "    <tr style=\"text-align: right;\">\n",
       "      <th></th>\n",
       "      <th>exam_attempt_id</th>\n",
       "      <th>student_id</th>\n",
       "      <th>exam_id</th>\n",
       "      <th>exam_result</th>\n",
       "      <th>exam_completion_time</th>\n",
       "      <th>date_exam_completed</th>\n",
       "    </tr>\n",
       "  </thead>\n",
       "  <tbody>\n",
       "    <tr>\n",
       "      <th>2274</th>\n",
       "      <td>182229</td>\n",
       "      <td>260477</td>\n",
       "      <td>521</td>\n",
       "      <td>67</td>\n",
       "      <td>25.0</td>\n",
       "      <td>2022-02-06</td>\n",
       "    </tr>\n",
       "  </tbody>\n",
       "</table>\n",
       "</div>"
      ],
      "text/plain": [
       "      exam_attempt_id  student_id  exam_id  exam_result  exam_completion_time  \\\n",
       "2274           182229      260477      521           67                  25.0   \n",
       "\n",
       "     date_exam_completed  \n",
       "2274          2022-02-06  "
      ]
     },
     "execution_count": 13,
     "metadata": {},
     "output_type": "execute_result"
    }
   ],
   "source": [
    "df11.sample(1)"
   ]
  },
  {
   "cell_type": "markdown",
   "metadata": {},
   "source": [
    "# Feature engineering & Pre-Processing"
   ]
  },
  {
   "cell_type": "code",
   "execution_count": 14,
   "metadata": {},
   "outputs": [],
   "source": [
    "df1['counter']=1\n",
    "engfr=[]\n",
    "for x in df8['student_id']:\n",
    "    engfr.append(df1.loc[df1['student_id'] == x, 'counter'].sum())\n",
    "df8[\"courses_rated\"] = engfr"
   ]
  },
  {
   "cell_type": "code",
   "execution_count": 15,
   "metadata": {},
   "outputs": [
    {
     "data": {
      "text/html": [
       "<div>\n",
       "<style scoped>\n",
       "    .dataframe tbody tr th:only-of-type {\n",
       "        vertical-align: middle;\n",
       "    }\n",
       "\n",
       "    .dataframe tbody tr th {\n",
       "        vertical-align: top;\n",
       "    }\n",
       "\n",
       "    .dataframe thead th {\n",
       "        text-align: right;\n",
       "    }\n",
       "</style>\n",
       "<table border=\"1\" class=\"dataframe\">\n",
       "  <thead>\n",
       "    <tr style=\"text-align: right;\">\n",
       "      <th></th>\n",
       "      <th>student_id</th>\n",
       "      <th>student_country</th>\n",
       "      <th>date_registered</th>\n",
       "      <th>courses_rated</th>\n",
       "    </tr>\n",
       "  </thead>\n",
       "  <tbody>\n",
       "    <tr>\n",
       "      <th>10771</th>\n",
       "      <td>269883</td>\n",
       "      <td>CA</td>\n",
       "      <td>2022-04-06</td>\n",
       "      <td>0</td>\n",
       "    </tr>\n",
       "    <tr>\n",
       "      <th>24137</th>\n",
       "      <td>283752</td>\n",
       "      <td>PK</td>\n",
       "      <td>2022-08-03</td>\n",
       "      <td>0</td>\n",
       "    </tr>\n",
       "    <tr>\n",
       "      <th>33373</th>\n",
       "      <td>293566</td>\n",
       "      <td>US</td>\n",
       "      <td>2022-10-06</td>\n",
       "      <td>0</td>\n",
       "    </tr>\n",
       "    <tr>\n",
       "      <th>18565</th>\n",
       "      <td>278006</td>\n",
       "      <td>EG</td>\n",
       "      <td>2022-06-16</td>\n",
       "      <td>0</td>\n",
       "    </tr>\n",
       "    <tr>\n",
       "      <th>826</th>\n",
       "      <td>259642</td>\n",
       "      <td>US</td>\n",
       "      <td>2022-01-07</td>\n",
       "      <td>0</td>\n",
       "    </tr>\n",
       "    <tr>\n",
       "      <th>34028</th>\n",
       "      <td>294261</td>\n",
       "      <td>CA</td>\n",
       "      <td>2022-10-11</td>\n",
       "      <td>0</td>\n",
       "    </tr>\n",
       "    <tr>\n",
       "      <th>22508</th>\n",
       "      <td>282056</td>\n",
       "      <td>CN</td>\n",
       "      <td>2022-07-19</td>\n",
       "      <td>0</td>\n",
       "    </tr>\n",
       "    <tr>\n",
       "      <th>17769</th>\n",
       "      <td>277163</td>\n",
       "      <td>EG</td>\n",
       "      <td>2022-06-09</td>\n",
       "      <td>0</td>\n",
       "    </tr>\n",
       "    <tr>\n",
       "      <th>28314</th>\n",
       "      <td>287997</td>\n",
       "      <td>IN</td>\n",
       "      <td>2022-08-25</td>\n",
       "      <td>0</td>\n",
       "    </tr>\n",
       "    <tr>\n",
       "      <th>18757</th>\n",
       "      <td>278201</td>\n",
       "      <td>UG</td>\n",
       "      <td>2022-06-17</td>\n",
       "      <td>0</td>\n",
       "    </tr>\n",
       "  </tbody>\n",
       "</table>\n",
       "</div>"
      ],
      "text/plain": [
       "       student_id student_country date_registered  courses_rated\n",
       "10771      269883              CA      2022-04-06              0\n",
       "24137      283752              PK      2022-08-03              0\n",
       "33373      293566              US      2022-10-06              0\n",
       "18565      278006              EG      2022-06-16              0\n",
       "826        259642              US      2022-01-07              0\n",
       "34028      294261              CA      2022-10-11              0\n",
       "22508      282056              CN      2022-07-19              0\n",
       "17769      277163              EG      2022-06-09              0\n",
       "28314      287997              IN      2022-08-25              0\n",
       "18757      278201              UG      2022-06-17              0"
      ]
     },
     "execution_count": 15,
     "metadata": {},
     "output_type": "execute_result"
    }
   ],
   "source": [
    "df8.sample(10)"
   ]
  },
  {
   "cell_type": "code",
   "execution_count": 16,
   "metadata": {},
   "outputs": [],
   "source": [
    "df7=df7.drop_duplicates(\n",
    "  subset = ['student_id', 'course_id'],\n",
    "  keep = 'last').reset_index(drop = True)"
   ]
  },
  {
   "cell_type": "code",
   "execution_count": 17,
   "metadata": {},
   "outputs": [],
   "source": [
    "df7['counter']=1\n",
    "courses_watched_by_student=[]\n",
    "for x in df8['student_id']:\n",
    "    courses_watched_by_student.append(df7.loc[df7['student_id'] == x, 'counter'].sum())\n",
    "df8[\"courses_watched\"] = courses_watched_by_student"
   ]
  },
  {
   "cell_type": "code",
   "execution_count": 18,
   "metadata": {},
   "outputs": [
    {
     "data": {
      "text/html": [
       "<div>\n",
       "<style scoped>\n",
       "    .dataframe tbody tr th:only-of-type {\n",
       "        vertical-align: middle;\n",
       "    }\n",
       "\n",
       "    .dataframe tbody tr th {\n",
       "        vertical-align: top;\n",
       "    }\n",
       "\n",
       "    .dataframe thead th {\n",
       "        text-align: right;\n",
       "    }\n",
       "</style>\n",
       "<table border=\"1\" class=\"dataframe\">\n",
       "  <thead>\n",
       "    <tr style=\"text-align: right;\">\n",
       "      <th></th>\n",
       "      <th>student_id</th>\n",
       "      <th>student_country</th>\n",
       "      <th>date_registered</th>\n",
       "      <th>courses_rated</th>\n",
       "      <th>courses_watched</th>\n",
       "    </tr>\n",
       "  </thead>\n",
       "  <tbody>\n",
       "    <tr>\n",
       "      <th>23112</th>\n",
       "      <td>282695</td>\n",
       "      <td>MX</td>\n",
       "      <td>2022-07-26</td>\n",
       "      <td>0</td>\n",
       "      <td>1</td>\n",
       "    </tr>\n",
       "    <tr>\n",
       "      <th>5267</th>\n",
       "      <td>264205</td>\n",
       "      <td>IN</td>\n",
       "      <td>2022-02-19</td>\n",
       "      <td>0</td>\n",
       "      <td>0</td>\n",
       "    </tr>\n",
       "    <tr>\n",
       "      <th>13312</th>\n",
       "      <td>272533</td>\n",
       "      <td>US</td>\n",
       "      <td>2022-05-01</td>\n",
       "      <td>0</td>\n",
       "      <td>1</td>\n",
       "    </tr>\n",
       "    <tr>\n",
       "      <th>33017</th>\n",
       "      <td>293195</td>\n",
       "      <td>PH</td>\n",
       "      <td>2022-10-04</td>\n",
       "      <td>0</td>\n",
       "      <td>1</td>\n",
       "    </tr>\n",
       "    <tr>\n",
       "      <th>16458</th>\n",
       "      <td>275814</td>\n",
       "      <td>IN</td>\n",
       "      <td>2022-06-02</td>\n",
       "      <td>0</td>\n",
       "      <td>0</td>\n",
       "    </tr>\n",
       "    <tr>\n",
       "      <th>15598</th>\n",
       "      <td>274901</td>\n",
       "      <td>BD</td>\n",
       "      <td>2022-05-24</td>\n",
       "      <td>1</td>\n",
       "      <td>3</td>\n",
       "    </tr>\n",
       "    <tr>\n",
       "      <th>3212</th>\n",
       "      <td>262092</td>\n",
       "      <td>GB</td>\n",
       "      <td>2022-01-31</td>\n",
       "      <td>0</td>\n",
       "      <td>1</td>\n",
       "    </tr>\n",
       "    <tr>\n",
       "      <th>15454</th>\n",
       "      <td>274751</td>\n",
       "      <td>US</td>\n",
       "      <td>2022-05-22</td>\n",
       "      <td>0</td>\n",
       "      <td>1</td>\n",
       "    </tr>\n",
       "    <tr>\n",
       "      <th>20722</th>\n",
       "      <td>280212</td>\n",
       "      <td>NG</td>\n",
       "      <td>2022-07-03</td>\n",
       "      <td>0</td>\n",
       "      <td>1</td>\n",
       "    </tr>\n",
       "    <tr>\n",
       "      <th>7072</th>\n",
       "      <td>266042</td>\n",
       "      <td>IN</td>\n",
       "      <td>2022-03-06</td>\n",
       "      <td>0</td>\n",
       "      <td>1</td>\n",
       "    </tr>\n",
       "  </tbody>\n",
       "</table>\n",
       "</div>"
      ],
      "text/plain": [
       "       student_id student_country date_registered  courses_rated  \\\n",
       "23112      282695              MX      2022-07-26              0   \n",
       "5267       264205              IN      2022-02-19              0   \n",
       "13312      272533              US      2022-05-01              0   \n",
       "33017      293195              PH      2022-10-04              0   \n",
       "16458      275814              IN      2022-06-02              0   \n",
       "15598      274901              BD      2022-05-24              1   \n",
       "3212       262092              GB      2022-01-31              0   \n",
       "15454      274751              US      2022-05-22              0   \n",
       "20722      280212              NG      2022-07-03              0   \n",
       "7072       266042              IN      2022-03-06              0   \n",
       "\n",
       "       courses_watched  \n",
       "23112                1  \n",
       "5267                 0  \n",
       "13312                1  \n",
       "33017                1  \n",
       "16458                0  \n",
       "15598                3  \n",
       "3212                 1  \n",
       "15454                1  \n",
       "20722                1  \n",
       "7072                 1  "
      ]
     },
     "execution_count": 18,
     "metadata": {},
     "output_type": "execute_result"
    }
   ],
   "source": [
    "df8.sample(10)"
   ]
  },
  {
   "cell_type": "code",
   "execution_count": 19,
   "metadata": {},
   "outputs": [],
   "source": [
    "df10['counter']=1\n",
    "engfr=[]\n",
    "for x in df8['student_id']:\n",
    "    engfr.append(df10.loc[df10['student_id'] == x, 'counter'].sum())\n",
    "df8[\"number_of_engagments\"] = engfr\n",
    "\n",
    "cor=[]\n",
    "for x in df8['student_id']:\n",
    "    cor.append(df10.loc[df10['student_id'] == x, 'engagement_lessons'].sum())\n",
    "df8[\"engagments_lessons\"] = cor\n",
    "\n",
    "ex=[]\n",
    "for x in df8['student_id']:\n",
    "    ex.append(df10.loc[df10['student_id'] == x, 'engagement_exams'].sum())\n",
    "df8[\"engagement_exams\"] = ex\n",
    "\n",
    "qu=[]\n",
    "for x in df8['student_id']:\n",
    "    qu.append(df10.loc[df10['student_id'] == x, 'engagement_quizzes'].sum())\n",
    "df8[\"engagement_quizzes\"] = qu"
   ]
  },
  {
   "cell_type": "code",
   "execution_count": 20,
   "metadata": {},
   "outputs": [
    {
     "data": {
      "text/html": [
       "<div>\n",
       "<style scoped>\n",
       "    .dataframe tbody tr th:only-of-type {\n",
       "        vertical-align: middle;\n",
       "    }\n",
       "\n",
       "    .dataframe tbody tr th {\n",
       "        vertical-align: top;\n",
       "    }\n",
       "\n",
       "    .dataframe thead th {\n",
       "        text-align: right;\n",
       "    }\n",
       "</style>\n",
       "<table border=\"1\" class=\"dataframe\">\n",
       "  <thead>\n",
       "    <tr style=\"text-align: right;\">\n",
       "      <th></th>\n",
       "      <th>student_id</th>\n",
       "      <th>student_country</th>\n",
       "      <th>date_registered</th>\n",
       "      <th>courses_rated</th>\n",
       "      <th>courses_watched</th>\n",
       "      <th>number_of_engagments</th>\n",
       "      <th>engagments_lessons</th>\n",
       "      <th>engagement_exams</th>\n",
       "      <th>engagement_quizzes</th>\n",
       "    </tr>\n",
       "  </thead>\n",
       "  <tbody>\n",
       "    <tr>\n",
       "      <th>0</th>\n",
       "      <td>258798</td>\n",
       "      <td>IN</td>\n",
       "      <td>2022-01-01</td>\n",
       "      <td>0</td>\n",
       "      <td>1</td>\n",
       "      <td>1</td>\n",
       "      <td>1</td>\n",
       "      <td>0</td>\n",
       "      <td>0</td>\n",
       "    </tr>\n",
       "    <tr>\n",
       "      <th>1</th>\n",
       "      <td>258799</td>\n",
       "      <td>CO</td>\n",
       "      <td>2022-01-01</td>\n",
       "      <td>0</td>\n",
       "      <td>0</td>\n",
       "      <td>0</td>\n",
       "      <td>0</td>\n",
       "      <td>0</td>\n",
       "      <td>0</td>\n",
       "    </tr>\n",
       "    <tr>\n",
       "      <th>2</th>\n",
       "      <td>258800</td>\n",
       "      <td>CA</td>\n",
       "      <td>2022-01-01</td>\n",
       "      <td>0</td>\n",
       "      <td>9</td>\n",
       "      <td>29</td>\n",
       "      <td>29</td>\n",
       "      <td>5</td>\n",
       "      <td>10</td>\n",
       "    </tr>\n",
       "    <tr>\n",
       "      <th>3</th>\n",
       "      <td>258801</td>\n",
       "      <td>IN</td>\n",
       "      <td>2022-01-01</td>\n",
       "      <td>0</td>\n",
       "      <td>0</td>\n",
       "      <td>0</td>\n",
       "      <td>0</td>\n",
       "      <td>0</td>\n",
       "      <td>0</td>\n",
       "    </tr>\n",
       "    <tr>\n",
       "      <th>4</th>\n",
       "      <td>258802</td>\n",
       "      <td>US</td>\n",
       "      <td>2022-01-01</td>\n",
       "      <td>0</td>\n",
       "      <td>0</td>\n",
       "      <td>0</td>\n",
       "      <td>0</td>\n",
       "      <td>0</td>\n",
       "      <td>0</td>\n",
       "    </tr>\n",
       "    <tr>\n",
       "      <th>...</th>\n",
       "      <td>...</td>\n",
       "      <td>...</td>\n",
       "      <td>...</td>\n",
       "      <td>...</td>\n",
       "      <td>...</td>\n",
       "      <td>...</td>\n",
       "      <td>...</td>\n",
       "      <td>...</td>\n",
       "      <td>...</td>\n",
       "    </tr>\n",
       "    <tr>\n",
       "      <th>35225</th>\n",
       "      <td>295511</td>\n",
       "      <td>CM</td>\n",
       "      <td>2022-10-20</td>\n",
       "      <td>0</td>\n",
       "      <td>1</td>\n",
       "      <td>1</td>\n",
       "      <td>1</td>\n",
       "      <td>0</td>\n",
       "      <td>1</td>\n",
       "    </tr>\n",
       "    <tr>\n",
       "      <th>35226</th>\n",
       "      <td>295512</td>\n",
       "      <td>CA</td>\n",
       "      <td>2022-10-20</td>\n",
       "      <td>0</td>\n",
       "      <td>1</td>\n",
       "      <td>1</td>\n",
       "      <td>1</td>\n",
       "      <td>0</td>\n",
       "      <td>1</td>\n",
       "    </tr>\n",
       "    <tr>\n",
       "      <th>35227</th>\n",
       "      <td>295513</td>\n",
       "      <td>SA</td>\n",
       "      <td>2022-10-20</td>\n",
       "      <td>0</td>\n",
       "      <td>1</td>\n",
       "      <td>1</td>\n",
       "      <td>1</td>\n",
       "      <td>0</td>\n",
       "      <td>0</td>\n",
       "    </tr>\n",
       "    <tr>\n",
       "      <th>35228</th>\n",
       "      <td>295514</td>\n",
       "      <td>NL</td>\n",
       "      <td>2022-10-20</td>\n",
       "      <td>0</td>\n",
       "      <td>0</td>\n",
       "      <td>0</td>\n",
       "      <td>0</td>\n",
       "      <td>0</td>\n",
       "      <td>0</td>\n",
       "    </tr>\n",
       "    <tr>\n",
       "      <th>35229</th>\n",
       "      <td>295515</td>\n",
       "      <td>SG</td>\n",
       "      <td>2022-10-20</td>\n",
       "      <td>0</td>\n",
       "      <td>0</td>\n",
       "      <td>0</td>\n",
       "      <td>0</td>\n",
       "      <td>0</td>\n",
       "      <td>0</td>\n",
       "    </tr>\n",
       "  </tbody>\n",
       "</table>\n",
       "<p>35230 rows × 9 columns</p>\n",
       "</div>"
      ],
      "text/plain": [
       "       student_id student_country date_registered  courses_rated  \\\n",
       "0          258798              IN      2022-01-01              0   \n",
       "1          258799              CO      2022-01-01              0   \n",
       "2          258800              CA      2022-01-01              0   \n",
       "3          258801              IN      2022-01-01              0   \n",
       "4          258802              US      2022-01-01              0   \n",
       "...           ...             ...             ...            ...   \n",
       "35225      295511              CM      2022-10-20              0   \n",
       "35226      295512              CA      2022-10-20              0   \n",
       "35227      295513              SA      2022-10-20              0   \n",
       "35228      295514              NL      2022-10-20              0   \n",
       "35229      295515              SG      2022-10-20              0   \n",
       "\n",
       "       courses_watched  number_of_engagments  engagments_lessons  \\\n",
       "0                    1                     1                   1   \n",
       "1                    0                     0                   0   \n",
       "2                    9                    29                  29   \n",
       "3                    0                     0                   0   \n",
       "4                    0                     0                   0   \n",
       "...                ...                   ...                 ...   \n",
       "35225                1                     1                   1   \n",
       "35226                1                     1                   1   \n",
       "35227                1                     1                   1   \n",
       "35228                0                     0                   0   \n",
       "35229                0                     0                   0   \n",
       "\n",
       "       engagement_exams  engagement_quizzes  \n",
       "0                     0                   0  \n",
       "1                     0                   0  \n",
       "2                     5                  10  \n",
       "3                     0                   0  \n",
       "4                     0                   0  \n",
       "...                 ...                 ...  \n",
       "35225                 0                   1  \n",
       "35226                 0                   1  \n",
       "35227                 0                   0  \n",
       "35228                 0                   0  \n",
       "35229                 0                   0  \n",
       "\n",
       "[35230 rows x 9 columns]"
      ]
     },
     "execution_count": 20,
     "metadata": {},
     "output_type": "execute_result"
    }
   ],
   "source": [
    "df8"
   ]
  },
  {
   "cell_type": "code",
   "execution_count": 21,
   "metadata": {},
   "outputs": [],
   "source": [
    "paid_students_id=[]\n",
    "for x in df6['student_id']:\n",
    "    paid_students_id.append(x)\n",
    "    \n",
    "def paid_free(x):\n",
    "    if x in paid_students_id:\n",
    "        return 1\n",
    "    else:\n",
    "        return 0\n",
    "    \n",
    "df8['Paid']=df8['student_id'].map(paid_free)"
   ]
  },
  {
   "cell_type": "code",
   "execution_count": 22,
   "metadata": {},
   "outputs": [],
   "source": [
    "average_course_rating=[]\n",
    "for x in df8['student_id']:\n",
    "    average_course_rating.append(df1.loc[df1['student_id'] == x, 'course_rating'].mean())\n",
    "df8['average_course_rating'] = average_course_rating\n",
    "\n",
    "minutes_watched_by_student=[]\n",
    "for x in df8['student_id']:\n",
    "    minutes_watched_by_student.append(df7.loc[df7['student_id'] == x, 'minutes_watched'].sum())\n",
    "df8['minutes_watched_by_student']=minutes_watched_by_student"
   ]
  },
  {
   "cell_type": "code",
   "execution_count": 23,
   "metadata": {},
   "outputs": [
    {
     "data": {
      "text/html": [
       "<div>\n",
       "<style scoped>\n",
       "    .dataframe tbody tr th:only-of-type {\n",
       "        vertical-align: middle;\n",
       "    }\n",
       "\n",
       "    .dataframe tbody tr th {\n",
       "        vertical-align: top;\n",
       "    }\n",
       "\n",
       "    .dataframe thead th {\n",
       "        text-align: right;\n",
       "    }\n",
       "</style>\n",
       "<table border=\"1\" class=\"dataframe\">\n",
       "  <thead>\n",
       "    <tr style=\"text-align: right;\">\n",
       "      <th></th>\n",
       "      <th>student_id</th>\n",
       "      <th>student_country</th>\n",
       "      <th>date_registered</th>\n",
       "      <th>courses_rated</th>\n",
       "      <th>courses_watched</th>\n",
       "      <th>number_of_engagments</th>\n",
       "      <th>engagments_lessons</th>\n",
       "      <th>engagement_exams</th>\n",
       "      <th>engagement_quizzes</th>\n",
       "      <th>Paid</th>\n",
       "      <th>average_course_rating</th>\n",
       "      <th>minutes_watched_by_student</th>\n",
       "    </tr>\n",
       "  </thead>\n",
       "  <tbody>\n",
       "    <tr>\n",
       "      <th>0</th>\n",
       "      <td>258798</td>\n",
       "      <td>IN</td>\n",
       "      <td>2022-01-01</td>\n",
       "      <td>0</td>\n",
       "      <td>1</td>\n",
       "      <td>1</td>\n",
       "      <td>1</td>\n",
       "      <td>0</td>\n",
       "      <td>0</td>\n",
       "      <td>0</td>\n",
       "      <td>NaN</td>\n",
       "      <td>0.3</td>\n",
       "    </tr>\n",
       "    <tr>\n",
       "      <th>1</th>\n",
       "      <td>258799</td>\n",
       "      <td>CO</td>\n",
       "      <td>2022-01-01</td>\n",
       "      <td>0</td>\n",
       "      <td>0</td>\n",
       "      <td>0</td>\n",
       "      <td>0</td>\n",
       "      <td>0</td>\n",
       "      <td>0</td>\n",
       "      <td>0</td>\n",
       "      <td>NaN</td>\n",
       "      <td>0.0</td>\n",
       "    </tr>\n",
       "    <tr>\n",
       "      <th>2</th>\n",
       "      <td>258800</td>\n",
       "      <td>CA</td>\n",
       "      <td>2022-01-01</td>\n",
       "      <td>0</td>\n",
       "      <td>9</td>\n",
       "      <td>29</td>\n",
       "      <td>29</td>\n",
       "      <td>5</td>\n",
       "      <td>10</td>\n",
       "      <td>1</td>\n",
       "      <td>NaN</td>\n",
       "      <td>74.3</td>\n",
       "    </tr>\n",
       "    <tr>\n",
       "      <th>3</th>\n",
       "      <td>258801</td>\n",
       "      <td>IN</td>\n",
       "      <td>2022-01-01</td>\n",
       "      <td>0</td>\n",
       "      <td>0</td>\n",
       "      <td>0</td>\n",
       "      <td>0</td>\n",
       "      <td>0</td>\n",
       "      <td>0</td>\n",
       "      <td>0</td>\n",
       "      <td>NaN</td>\n",
       "      <td>0.0</td>\n",
       "    </tr>\n",
       "    <tr>\n",
       "      <th>4</th>\n",
       "      <td>258802</td>\n",
       "      <td>US</td>\n",
       "      <td>2022-01-01</td>\n",
       "      <td>0</td>\n",
       "      <td>0</td>\n",
       "      <td>0</td>\n",
       "      <td>0</td>\n",
       "      <td>0</td>\n",
       "      <td>0</td>\n",
       "      <td>0</td>\n",
       "      <td>NaN</td>\n",
       "      <td>0.0</td>\n",
       "    </tr>\n",
       "    <tr>\n",
       "      <th>...</th>\n",
       "      <td>...</td>\n",
       "      <td>...</td>\n",
       "      <td>...</td>\n",
       "      <td>...</td>\n",
       "      <td>...</td>\n",
       "      <td>...</td>\n",
       "      <td>...</td>\n",
       "      <td>...</td>\n",
       "      <td>...</td>\n",
       "      <td>...</td>\n",
       "      <td>...</td>\n",
       "      <td>...</td>\n",
       "    </tr>\n",
       "    <tr>\n",
       "      <th>35225</th>\n",
       "      <td>295511</td>\n",
       "      <td>CM</td>\n",
       "      <td>2022-10-20</td>\n",
       "      <td>0</td>\n",
       "      <td>1</td>\n",
       "      <td>1</td>\n",
       "      <td>1</td>\n",
       "      <td>0</td>\n",
       "      <td>1</td>\n",
       "      <td>0</td>\n",
       "      <td>NaN</td>\n",
       "      <td>7.8</td>\n",
       "    </tr>\n",
       "    <tr>\n",
       "      <th>35226</th>\n",
       "      <td>295512</td>\n",
       "      <td>CA</td>\n",
       "      <td>2022-10-20</td>\n",
       "      <td>0</td>\n",
       "      <td>1</td>\n",
       "      <td>1</td>\n",
       "      <td>1</td>\n",
       "      <td>0</td>\n",
       "      <td>1</td>\n",
       "      <td>0</td>\n",
       "      <td>NaN</td>\n",
       "      <td>10.4</td>\n",
       "    </tr>\n",
       "    <tr>\n",
       "      <th>35227</th>\n",
       "      <td>295513</td>\n",
       "      <td>SA</td>\n",
       "      <td>2022-10-20</td>\n",
       "      <td>0</td>\n",
       "      <td>1</td>\n",
       "      <td>1</td>\n",
       "      <td>1</td>\n",
       "      <td>0</td>\n",
       "      <td>0</td>\n",
       "      <td>0</td>\n",
       "      <td>NaN</td>\n",
       "      <td>0.1</td>\n",
       "    </tr>\n",
       "    <tr>\n",
       "      <th>35228</th>\n",
       "      <td>295514</td>\n",
       "      <td>NL</td>\n",
       "      <td>2022-10-20</td>\n",
       "      <td>0</td>\n",
       "      <td>0</td>\n",
       "      <td>0</td>\n",
       "      <td>0</td>\n",
       "      <td>0</td>\n",
       "      <td>0</td>\n",
       "      <td>0</td>\n",
       "      <td>NaN</td>\n",
       "      <td>0.0</td>\n",
       "    </tr>\n",
       "    <tr>\n",
       "      <th>35229</th>\n",
       "      <td>295515</td>\n",
       "      <td>SG</td>\n",
       "      <td>2022-10-20</td>\n",
       "      <td>0</td>\n",
       "      <td>0</td>\n",
       "      <td>0</td>\n",
       "      <td>0</td>\n",
       "      <td>0</td>\n",
       "      <td>0</td>\n",
       "      <td>0</td>\n",
       "      <td>NaN</td>\n",
       "      <td>0.0</td>\n",
       "    </tr>\n",
       "  </tbody>\n",
       "</table>\n",
       "<p>35230 rows × 12 columns</p>\n",
       "</div>"
      ],
      "text/plain": [
       "       student_id student_country date_registered  courses_rated  \\\n",
       "0          258798              IN      2022-01-01              0   \n",
       "1          258799              CO      2022-01-01              0   \n",
       "2          258800              CA      2022-01-01              0   \n",
       "3          258801              IN      2022-01-01              0   \n",
       "4          258802              US      2022-01-01              0   \n",
       "...           ...             ...             ...            ...   \n",
       "35225      295511              CM      2022-10-20              0   \n",
       "35226      295512              CA      2022-10-20              0   \n",
       "35227      295513              SA      2022-10-20              0   \n",
       "35228      295514              NL      2022-10-20              0   \n",
       "35229      295515              SG      2022-10-20              0   \n",
       "\n",
       "       courses_watched  number_of_engagments  engagments_lessons  \\\n",
       "0                    1                     1                   1   \n",
       "1                    0                     0                   0   \n",
       "2                    9                    29                  29   \n",
       "3                    0                     0                   0   \n",
       "4                    0                     0                   0   \n",
       "...                ...                   ...                 ...   \n",
       "35225                1                     1                   1   \n",
       "35226                1                     1                   1   \n",
       "35227                1                     1                   1   \n",
       "35228                0                     0                   0   \n",
       "35229                0                     0                   0   \n",
       "\n",
       "       engagement_exams  engagement_quizzes  Paid  average_course_rating  \\\n",
       "0                     0                   0     0                    NaN   \n",
       "1                     0                   0     0                    NaN   \n",
       "2                     5                  10     1                    NaN   \n",
       "3                     0                   0     0                    NaN   \n",
       "4                     0                   0     0                    NaN   \n",
       "...                 ...                 ...   ...                    ...   \n",
       "35225                 0                   1     0                    NaN   \n",
       "35226                 0                   1     0                    NaN   \n",
       "35227                 0                   0     0                    NaN   \n",
       "35228                 0                   0     0                    NaN   \n",
       "35229                 0                   0     0                    NaN   \n",
       "\n",
       "       minutes_watched_by_student  \n",
       "0                             0.3  \n",
       "1                             0.0  \n",
       "2                            74.3  \n",
       "3                             0.0  \n",
       "4                             0.0  \n",
       "...                           ...  \n",
       "35225                         7.8  \n",
       "35226                        10.4  \n",
       "35227                         0.1  \n",
       "35228                         0.0  \n",
       "35229                         0.0  \n",
       "\n",
       "[35230 rows x 12 columns]"
      ]
     },
     "execution_count": 23,
     "metadata": {},
     "output_type": "execute_result"
    }
   ],
   "source": [
    "df8"
   ]
  },
  {
   "cell_type": "markdown",
   "metadata": {},
   "source": [
    "# Finding Correlation"
   ]
  },
  {
   "cell_type": "code",
   "execution_count": 24,
   "metadata": {},
   "outputs": [
    {
     "data": {
      "image/png": "[encoded data removed]",
      "text/plain": [
       "<Figure size 432x288 with 2 Axes>"
      ]
     },
     "metadata": {
      "needs_background": "light"
     },
     "output_type": "display_data"
    }
   ],
   "source": [
    "corr_matrix = df8.corr()\n",
    "sns.heatmap(corr_matrix, annot=True)\n",
    "plt.show()"
   ]
  },
  {
   "cell_type": "code",
   "execution_count": 25,
   "metadata": {},
   "outputs": [],
   "source": [
    "df8=df8.drop(['student_country','date_registered','average_course_rating'], axis=1)"
   ]
  },
  {
   "cell_type": "markdown",
   "metadata": {},
   "source": [
    "# Splitting the dataset & Buliding the model"
   ]
  },
  {
   "cell_type": "code",
   "execution_count": 26,
   "metadata": {},
   "outputs": [
    {
     "data": {
      "text/html": [
       "<div>\n",
       "<style scoped>\n",
       "    .dataframe tbody tr th:only-of-type {\n",
       "        vertical-align: middle;\n",
       "    }\n",
       "\n",
       "    .dataframe tbody tr th {\n",
       "        vertical-align: top;\n",
       "    }\n",
       "\n",
       "    .dataframe thead th {\n",
       "        text-align: right;\n",
       "    }\n",
       "</style>\n",
       "<table border=\"1\" class=\"dataframe\">\n",
       "  <thead>\n",
       "    <tr style=\"text-align: right;\">\n",
       "      <th></th>\n",
       "      <th>courses_rated</th>\n",
       "      <th>courses_watched</th>\n",
       "      <th>number_of_engagments</th>\n",
       "      <th>engagments_lessons</th>\n",
       "      <th>engagement_exams</th>\n",
       "      <th>engagement_quizzes</th>\n",
       "      <th>minutes_watched_by_student</th>\n",
       "    </tr>\n",
       "  </thead>\n",
       "  <tbody>\n",
       "    <tr>\n",
       "      <th>0</th>\n",
       "      <td>0</td>\n",
       "      <td>1</td>\n",
       "      <td>1</td>\n",
       "      <td>1</td>\n",
       "      <td>0</td>\n",
       "      <td>0</td>\n",
       "      <td>0.3</td>\n",
       "    </tr>\n",
       "    <tr>\n",
       "      <th>1</th>\n",
       "      <td>0</td>\n",
       "      <td>0</td>\n",
       "      <td>0</td>\n",
       "      <td>0</td>\n",
       "      <td>0</td>\n",
       "      <td>0</td>\n",
       "      <td>0.0</td>\n",
       "    </tr>\n",
       "    <tr>\n",
       "      <th>2</th>\n",
       "      <td>0</td>\n",
       "      <td>9</td>\n",
       "      <td>29</td>\n",
       "      <td>29</td>\n",
       "      <td>5</td>\n",
       "      <td>10</td>\n",
       "      <td>74.3</td>\n",
       "    </tr>\n",
       "    <tr>\n",
       "      <th>3</th>\n",
       "      <td>0</td>\n",
       "      <td>0</td>\n",
       "      <td>0</td>\n",
       "      <td>0</td>\n",
       "      <td>0</td>\n",
       "      <td>0</td>\n",
       "      <td>0.0</td>\n",
       "    </tr>\n",
       "    <tr>\n",
       "      <th>4</th>\n",
       "      <td>0</td>\n",
       "      <td>0</td>\n",
       "      <td>0</td>\n",
       "      <td>0</td>\n",
       "      <td>0</td>\n",
       "      <td>0</td>\n",
       "      <td>0.0</td>\n",
       "    </tr>\n",
       "    <tr>\n",
       "      <th>...</th>\n",
       "      <td>...</td>\n",
       "      <td>...</td>\n",
       "      <td>...</td>\n",
       "      <td>...</td>\n",
       "      <td>...</td>\n",
       "      <td>...</td>\n",
       "      <td>...</td>\n",
       "    </tr>\n",
       "    <tr>\n",
       "      <th>35225</th>\n",
       "      <td>0</td>\n",
       "      <td>1</td>\n",
       "      <td>1</td>\n",
       "      <td>1</td>\n",
       "      <td>0</td>\n",
       "      <td>1</td>\n",
       "      <td>7.8</td>\n",
       "    </tr>\n",
       "    <tr>\n",
       "      <th>35226</th>\n",
       "      <td>0</td>\n",
       "      <td>1</td>\n",
       "      <td>1</td>\n",
       "      <td>1</td>\n",
       "      <td>0</td>\n",
       "      <td>1</td>\n",
       "      <td>10.4</td>\n",
       "    </tr>\n",
       "    <tr>\n",
       "      <th>35227</th>\n",
       "      <td>0</td>\n",
       "      <td>1</td>\n",
       "      <td>1</td>\n",
       "      <td>1</td>\n",
       "      <td>0</td>\n",
       "      <td>0</td>\n",
       "      <td>0.1</td>\n",
       "    </tr>\n",
       "    <tr>\n",
       "      <th>35228</th>\n",
       "      <td>0</td>\n",
       "      <td>0</td>\n",
       "      <td>0</td>\n",
       "      <td>0</td>\n",
       "      <td>0</td>\n",
       "      <td>0</td>\n",
       "      <td>0.0</td>\n",
       "    </tr>\n",
       "    <tr>\n",
       "      <th>35229</th>\n",
       "      <td>0</td>\n",
       "      <td>0</td>\n",
       "      <td>0</td>\n",
       "      <td>0</td>\n",
       "      <td>0</td>\n",
       "      <td>0</td>\n",
       "      <td>0.0</td>\n",
       "    </tr>\n",
       "  </tbody>\n",
       "</table>\n",
       "<p>35230 rows × 7 columns</p>\n",
       "</div>"
      ],
      "text/plain": [
       "       courses_rated  courses_watched  number_of_engagments  \\\n",
       "0                  0                1                     1   \n",
       "1                  0                0                     0   \n",
       "2                  0                9                    29   \n",
       "3                  0                0                     0   \n",
       "4                  0                0                     0   \n",
       "...              ...              ...                   ...   \n",
       "35225              0                1                     1   \n",
       "35226              0                1                     1   \n",
       "35227              0                1                     1   \n",
       "35228              0                0                     0   \n",
       "35229              0                0                     0   \n",
       "\n",
       "       engagments_lessons  engagement_exams  engagement_quizzes  \\\n",
       "0                       1                 0                   0   \n",
       "1                       0                 0                   0   \n",
       "2                      29                 5                  10   \n",
       "3                       0                 0                   0   \n",
       "4                       0                 0                   0   \n",
       "...                   ...               ...                 ...   \n",
       "35225                   1                 0                   1   \n",
       "35226                   1                 0                   1   \n",
       "35227                   1                 0                   0   \n",
       "35228                   0                 0                   0   \n",
       "35229                   0                 0                   0   \n",
       "\n",
       "       minutes_watched_by_student  \n",
       "0                             0.3  \n",
       "1                             0.0  \n",
       "2                            74.3  \n",
       "3                             0.0  \n",
       "4                             0.0  \n",
       "...                           ...  \n",
       "35225                         7.8  \n",
       "35226                        10.4  \n",
       "35227                         0.1  \n",
       "35228                         0.0  \n",
       "35229                         0.0  \n",
       "\n",
       "[35230 rows x 7 columns]"
      ]
     },
     "execution_count": 26,
     "metadata": {},
     "output_type": "execute_result"
    }
   ],
   "source": [
    "x=df8.drop(['student_id','Paid'],axis=1)\n",
    "y=df8['Paid']\n",
    "x"
   ]
  },
  {
   "cell_type": "code",
   "execution_count": 27,
   "metadata": {},
   "outputs": [
    {
     "data": {
      "text/plain": [
       "courses_rated                 0\n",
       "courses_watched               0\n",
       "number_of_engagments          0\n",
       "engagments_lessons            0\n",
       "engagement_exams              0\n",
       "engagement_quizzes            0\n",
       "minutes_watched_by_student    0\n",
       "dtype: int64"
      ]
     },
     "execution_count": 27,
     "metadata": {},
     "output_type": "execute_result"
    }
   ],
   "source": [
    "x.isnull().sum()"
   ]
  },
  {
   "cell_type": "code",
   "execution_count": 28,
   "metadata": {},
   "outputs": [],
   "source": [
    "x_train,x_test,y_train,y_test=train_test_split(x,y,test_size=0.25)"
   ]
  },
  {
   "cell_type": "code",
   "execution_count": 29,
   "metadata": {},
   "outputs": [
    {
     "data": {
      "text/plain": [
       "0    24792\n",
       "1     1630\n",
       "Name: Paid, dtype: int64"
      ]
     },
     "execution_count": 29,
     "metadata": {},
     "output_type": "execute_result"
    }
   ],
   "source": [
    "y_train.value_counts()"
   ]
  },
  {
   "cell_type": "markdown",
   "metadata": {},
   "source": [
    "## Trying two methods to fix imbalanced classes , Starting by oversampling SMOTE , it works the following way :\n",
    "\n",
    "### Identify the minority class vector.\n",
    "### Deciding the number of nearest k-nearest neighbour \n",
    "### generating line between the minority data points and any of its neighbors and place a synthetic point\n",
    "\n"
   ]
  },
  {
   "attachments": {
    "the-basic-principle-of-the-synthetic-minority-oversample-technique-smote-algorithm-5452514%20%281%29.png": {
     "image/png": "[encoded data removed]"
    }
   },
   "cell_type": "markdown",
   "metadata": {},
   "source": [
    "![the-basic-principle-of-the-synthetic-minority-oversample-technique-smote-algorithm-5452514%20%281%29.png](attachment:the-basic-principle-of-the-synthetic-minority-oversample-technique-smote-algorithm-5452514%20%281%29.png)"
   ]
  },
  {
   "cell_type": "code",
   "execution_count": 30,
   "metadata": {},
   "outputs": [
    {
     "data": {
      "text/plain": [
       "1    24792\n",
       "0    24792\n",
       "Name: Paid, dtype: int64"
      ]
     },
     "execution_count": 30,
     "metadata": {},
     "output_type": "execute_result"
    }
   ],
   "source": [
    "sampler=SMOTE()\n",
    "x_train_over_sampled,y_train_over_sampled=sampler.fit_resample(x_train,y_train)\n",
    "y_train_over_sampled.value_counts()"
   ]
  },
  {
   "cell_type": "markdown",
   "metadata": {},
   "source": [
    "## Scaling data"
   ]
  },
  {
   "cell_type": "code",
   "execution_count": 31,
   "metadata": {},
   "outputs": [
    {
     "data": {
      "text/plain": [
       "array([[-0.28526022, -0.39529158, -0.48387016, ..., -0.45785948,\n",
       "        -0.55562113, -0.41365428],\n",
       "       [-0.28526022, -0.39529158, -0.48387016, ..., -0.45785948,\n",
       "        -0.55562113, -0.4241871 ],\n",
       "       [-0.28526022, -0.39529158, -0.48387016, ..., -0.45785948,\n",
       "        -0.55562113, -0.42468867],\n",
       "       ...,\n",
       "       [-0.28526022, -0.04727159,  0.26409077, ...,  0.30324163,\n",
       "         0.12563724, -0.0620146 ],\n",
       "       [ 0.73783872,  0.3007484 , -0.1098897 , ..., -0.2675842 ,\n",
       "        -0.04467735,  0.00666643],\n",
       "       [-0.28526022, -0.39529158, -0.42154009, ..., -0.45785948,\n",
       "        -0.21499194, -0.2909408 ]])"
      ]
     },
     "execution_count": 31,
     "metadata": {},
     "output_type": "execute_result"
    }
   ],
   "source": [
    "scaler1=StandardScaler()\n",
    "scaler1.fit(x_train_over_sampled)\n",
    "x_train_over_sampled=scaler1.transform(x_train_over_sampled)\n",
    "x_test=scaler1.transform(x_test)\n",
    "x_train_over_sampled"
   ]
  },
  {
   "cell_type": "code",
   "execution_count": 32,
   "metadata": {},
   "outputs": [],
   "source": [
    "models={\n",
    "    'LR':LogisticRegression(),\n",
    "    'KNN':KNeighborsClassifier(),\n",
    "    'DT':DecisionTreeClassifier(),\n",
    "    'SVC':SVC(),\n",
    "    'NB':GaussianNB(),\n",
    "    'XGC':XGBClassifier(),\n",
    "    'RF':RandomForestClassifier()\n",
    "    \n",
    "}"
   ]
  },
  {
   "cell_type": "code",
   "execution_count": 33,
   "metadata": {},
   "outputs": [
    {
     "name": "stdout",
     "output_type": "stream",
     "text": [
      "using LR: \n",
      "Training Accuracy :0.06169101506320491\n",
      "Testing Accuracy :0.9386920980926431\n",
      "Confusion matrix:\n",
      " [[7852  451]\n",
      " [  89  416]]\n",
      "Recall: 0.8237623762376237\n",
      "precision: 0.4798154555940023\n",
      "F1-score: 0.6064139941690961\n",
      "Fbeta-score: 0.5235338535112006\n",
      "              precision    recall  f1-score   support\n",
      "\n",
      "           0       0.99      0.95      0.97      8303\n",
      "           1       0.48      0.82      0.61       505\n",
      "\n",
      "    accuracy                           0.94      8808\n",
      "   macro avg       0.73      0.88      0.79      8808\n",
      "weighted avg       0.96      0.94      0.95      8808\n",
      "\n",
      "---------------------------------\n",
      "using KNN: \n"
     ]
    },
    {
     "name": "stderr",
     "output_type": "stream",
     "text": [
      "C:\\Users\\101\\anaconda3\\lib\\site-packages\\sklearn\\base.py:439: UserWarning: X has feature names, but LogisticRegression was fitted without feature names\n",
      "  f\"X has feature names, but {self.__class__.__name__} was fitted without\"\n",
      "C:\\Users\\101\\anaconda3\\lib\\site-packages\\sklearn\\base.py:439: UserWarning: X has feature names, but KNeighborsClassifier was fitted without feature names\n",
      "  f\"X has feature names, but {self.__class__.__name__} was fitted without\"\n"
     ]
    },
    {
     "name": "stdout",
     "output_type": "stream",
     "text": [
      "Training Accuracy :0.06169101506320491\n",
      "Testing Accuracy :0.926544050862852\n",
      "Confusion matrix:\n",
      " [[7754  549]\n",
      " [  98  407]]\n",
      "Recall: 0.805940594059406\n",
      "precision: 0.42573221757322177\n",
      "F1-score: 0.5571526351813826\n",
      "Fbeta-score: 0.4700854700854701\n",
      "              precision    recall  f1-score   support\n",
      "\n",
      "           0       0.99      0.93      0.96      8303\n",
      "           1       0.43      0.81      0.56       505\n",
      "\n",
      "    accuracy                           0.93      8808\n",
      "   macro avg       0.71      0.87      0.76      8808\n",
      "weighted avg       0.96      0.93      0.94      8808\n",
      "\n",
      "---------------------------------\n",
      "using DT: \n",
      "Training Accuracy :0.07788963742335932\n",
      "Testing Accuracy :0.9386920980926431\n",
      "Confusion matrix:\n",
      " [[7920  383]\n",
      " [ 157  348]]\n",
      "Recall: 0.689108910891089\n",
      "precision: 0.47606019151846785\n",
      "F1-score: 0.5631067961165048\n",
      "Fbeta-score: 0.5074365704286965\n",
      "              precision    recall  f1-score   support\n",
      "\n",
      "           0       0.98      0.95      0.97      8303\n",
      "           1       0.48      0.69      0.56       505\n",
      "\n",
      "    accuracy                           0.94      8808\n",
      "   macro avg       0.73      0.82      0.77      8808\n",
      "weighted avg       0.95      0.94      0.94      8808\n",
      "\n",
      "---------------------------------\n",
      "using SVC: \n"
     ]
    },
    {
     "name": "stderr",
     "output_type": "stream",
     "text": [
      "C:\\Users\\101\\anaconda3\\lib\\site-packages\\sklearn\\base.py:439: UserWarning: X has feature names, but DecisionTreeClassifier was fitted without feature names\n",
      "  f\"X has feature names, but {self.__class__.__name__} was fitted without\"\n",
      "C:\\Users\\101\\anaconda3\\lib\\site-packages\\sklearn\\base.py:439: UserWarning: X has feature names, but SVC was fitted without feature names\n",
      "  f\"X has feature names, but {self.__class__.__name__} was fitted without\"\n"
     ]
    },
    {
     "name": "stdout",
     "output_type": "stream",
     "text": [
      "Training Accuracy :0.06169101506320491\n",
      "Testing Accuracy :0.931653042688465\n",
      "Confusion matrix:\n",
      " [[7786  517]\n",
      " [  85  420]]\n",
      "Recall: 0.8316831683168316\n",
      "precision: 0.44823906083244397\n",
      "F1-score: 0.5825242718446603\n",
      "Fbeta-score: 0.4937691041617681\n",
      "              precision    recall  f1-score   support\n",
      "\n",
      "           0       0.99      0.94      0.96      8303\n",
      "           1       0.45      0.83      0.58       505\n",
      "\n",
      "    accuracy                           0.93      8808\n",
      "   macro avg       0.72      0.88      0.77      8808\n",
      "weighted avg       0.96      0.93      0.94      8808\n",
      "\n",
      "---------------------------------\n",
      "using NB: \n",
      "Training Accuracy :0.06169101506320491\n",
      "Testing Accuracy :0.9604904632152589\n",
      "Confusion matrix:\n",
      " [[8082  221]\n",
      " [ 127  378]]\n",
      "Recall: 0.7485148514851485\n",
      "precision: 0.6310517529215359\n",
      "F1-score: 0.6847826086956523\n",
      "Fbeta-score: 0.6514994829369184\n",
      "              precision    recall  f1-score   support\n",
      "\n",
      "           0       0.98      0.97      0.98      8303\n",
      "           1       0.63      0.75      0.68       505\n",
      "\n",
      "    accuracy                           0.96      8808\n",
      "   macro avg       0.81      0.86      0.83      8808\n",
      "weighted avg       0.96      0.96      0.96      8808\n",
      "\n",
      "---------------------------------\n",
      "using XGC: \n",
      "[18:46:08] WARNING: C:/Users/Administrator/workspace/xgboost-win64_release_1.5.1/src/learner.cc:1115: Starting in XGBoost 1.3.0, the default evaluation metric used with the objective 'binary:logistic' was changed from 'error' to 'logloss'. Explicitly set eval_metric if you'd like to restore the old behavior.\n"
     ]
    },
    {
     "name": "stderr",
     "output_type": "stream",
     "text": [
      "C:\\Users\\101\\anaconda3\\lib\\site-packages\\sklearn\\base.py:439: UserWarning: X has feature names, but GaussianNB was fitted without feature names\n",
      "  f\"X has feature names, but {self.__class__.__name__} was fitted without\"\n",
      "C:\\Users\\101\\anaconda3\\lib\\site-packages\\xgboost\\sklearn.py:1224: UserWarning: The use of label encoder in XGBClassifier is deprecated and will be removed in a future release. To remove this warning, do the following: 1) Pass option use_label_encoder=False when constructing XGBClassifier object; and 2) Encode your labels (y) as integers starting with 0, i.e. 0, 1, 2, ..., [num_class - 1].\n",
      "  warnings.warn(label_encoder_deprecation_msg, UserWarning)\n"
     ]
    },
    {
     "name": "stdout",
     "output_type": "stream",
     "text": [
      "Training Accuracy :0.06169101506320491\n",
      "Testing Accuracy :0.9363079019073569\n",
      "Confusion matrix:\n",
      " [[7864  439]\n",
      " [ 122  383]]\n",
      "Recall: 0.7584158415841584\n",
      "precision: 0.4659367396593674\n",
      "F1-score: 0.5772418990203466\n",
      "Fbeta-score: 0.5048774057474296\n",
      "              precision    recall  f1-score   support\n",
      "\n",
      "           0       0.98      0.95      0.97      8303\n",
      "           1       0.47      0.76      0.58       505\n",
      "\n",
      "    accuracy                           0.94      8808\n",
      "   macro avg       0.73      0.85      0.77      8808\n",
      "weighted avg       0.95      0.94      0.94      8808\n",
      "\n",
      "---------------------------------\n",
      "using RF: \n",
      "Training Accuracy :0.06169101506320491\n",
      "Testing Accuracy :0.9407356948228883\n",
      "Confusion matrix:\n",
      " [[7906  397]\n",
      " [ 125  380]]\n",
      "Recall: 0.7524752475247525\n",
      "precision: 0.48906048906048905\n",
      "F1-score: 0.592823712948518\n",
      "Fbeta-score: 0.5258787711043454\n",
      "              precision    recall  f1-score   support\n",
      "\n",
      "           0       0.98      0.95      0.97      8303\n",
      "           1       0.49      0.75      0.59       505\n",
      "\n",
      "    accuracy                           0.94      8808\n",
      "   macro avg       0.74      0.85      0.78      8808\n",
      "weighted avg       0.96      0.94      0.95      8808\n",
      "\n",
      "---------------------------------\n"
     ]
    },
    {
     "name": "stderr",
     "output_type": "stream",
     "text": [
      "C:\\Users\\101\\anaconda3\\lib\\site-packages\\sklearn\\base.py:439: UserWarning: X has feature names, but RandomForestClassifier was fitted without feature names\n",
      "  f\"X has feature names, but {self.__class__.__name__} was fitted without\"\n"
     ]
    }
   ],
   "source": [
    "for name,model in  models.items():\n",
    "    print(f'using {name}: ')\n",
    "    model.fit(x_train_over_sampled,y_train_over_sampled)\n",
    "    y_pred=model.predict(x_test)\n",
    "    print(f'Training Accuracy :{accuracy_score(y_train,model.predict(x_train))}')\n",
    "    print(f'Testing Accuracy :{accuracy_score(y_test,y_pred)}')\n",
    "    print(f'Confusion matrix:\\n {confusion_matrix(y_test,y_pred)}')\n",
    "    print(f'Recall: {recall_score(y_test,y_pred)}')\n",
    "    print(f'precision: {precision_score(y_test,y_pred)}')\n",
    "    print(f'F1-score: {f1_score(y_test,y_pred)}')\n",
    "    print(f'Fbeta-score: {fbeta_score(y_test,y_pred,beta=0.5)}')\n",
    "    print(classification_report(y_test,y_pred))\n",
    "    print('-'*33)\n",
    "    "
   ]
  },
  {
   "cell_type": "markdown",
   "metadata": {},
   "source": [
    "## Cross-Validation"
   ]
  },
  {
   "cell_type": "code",
   "execution_count": 34,
   "metadata": {},
   "outputs": [
    {
     "data": {
      "text/plain": [
       "{'fit_time': array([0.0490458 , 0.05104733, 0.0600543 , 0.05404878, 0.05504537,\n",
       "        0.05004692, 0.0460391 , 0.05004811, 0.05004597, 0.06205177]),\n",
       " 'score_time': array([0.00301027, 0.00500417, 0.004004  , 0.00400448, 0.00800991,\n",
       "        0.00400186, 0.00400901, 0.00499916, 0.00300264, 0.00300384]),\n",
       " 'test_score': array([0.96792506, 0.96423503, 0.96423503, 0.96253193, 0.95912575,\n",
       "        0.9577065 , 0.95628726, 0.94578484, 0.9577065 , 0.95202952]),\n",
       " 'train_score': array([0.99189453, 0.99230454, 0.99224146, 0.99230454, 0.99271454,\n",
       "        0.99255685, 0.99233608, 0.99252531, 0.99239915, 0.99255685])}"
      ]
     },
     "execution_count": 34,
     "metadata": {},
     "output_type": "execute_result"
    }
   ],
   "source": [
    "model=DecisionTreeClassifier(random_state=42)\n",
    "CV_result=cross_validate(model,x,y,cv=10,n_jobs=-1,return_train_score=True)\n",
    "CV_result"
   ]
  },
  {
   "cell_type": "code",
   "execution_count": 35,
   "metadata": {},
   "outputs": [
    {
     "data": {
      "text/plain": [
       "0.958756741413568"
      ]
     },
     "execution_count": 35,
     "metadata": {},
     "output_type": "execute_result"
    }
   ],
   "source": [
    "CV_result['test_score'].mean()"
   ]
  },
  {
   "cell_type": "code",
   "execution_count": 36,
   "metadata": {},
   "outputs": [
    {
     "data": {
      "text/plain": [
       "{'fit_time': array([7.66695714, 7.7089963 , 7.61291146, 7.60890651, 7.63192749,\n",
       "        7.55085588, 7.66195345, 7.58388257, 7.79106832, 7.33165312]),\n",
       " 'score_time': array([1.11601353, 1.1410358 , 1.16705775, 1.14904165, 1.07797885,\n",
       "        1.01091576, 1.14604163, 1.11601186, 1.16405678, 1.07798004]),\n",
       " 'test_score': array([0.97331819, 0.97672438, 0.97133125, 0.97246665, 0.96622197,\n",
       "        0.96338348, 0.96423503, 0.95401646, 0.96565427, 0.95515186]),\n",
       " 'train_score': array([0.96751506, 0.96685275, 0.96732583, 0.96745198, 0.96836661,\n",
       "        0.96808276, 0.96798814, 0.9679566 , 0.96760968, 0.96896584])}"
      ]
     },
     "execution_count": 36,
     "metadata": {},
     "output_type": "execute_result"
    }
   ],
   "source": [
    "model=SVC(random_state=42)\n",
    "CV_result=cross_validate(model,x,y,cv=10,n_jobs=-1,return_train_score=True)\n",
    "CV_result"
   ]
  },
  {
   "cell_type": "code",
   "execution_count": 37,
   "metadata": {},
   "outputs": [
    {
     "data": {
      "text/plain": [
       "0.9662503548112404"
      ]
     },
     "execution_count": 37,
     "metadata": {},
     "output_type": "execute_result"
    }
   ],
   "source": [
    "CV_result['test_score'].mean()"
   ]
  },
  {
   "cell_type": "code",
   "execution_count": 38,
   "metadata": {},
   "outputs": [
    {
     "data": {
      "text/plain": [
       "{'fit_time': array([1.52938366, 1.54039574, 1.5093658 , 1.48734641, 1.51136756,\n",
       "        1.51537156, 1.50936389, 1.48734641, 1.50536895, 1.45832539]),\n",
       " 'score_time': array([0.05605698, 0.05604982, 0.04904413, 0.04604149, 0.05304861,\n",
       "        0.04704213, 0.05304933, 0.04804349, 0.05504656, 0.05405188]),\n",
       " 'test_score': array([0.97019586, 0.96849276, 0.9710474 , 0.96877661, 0.96508657,\n",
       "        0.96338348, 0.96054499, 0.95628726, 0.97019586, 0.96139654]),\n",
       " 'train_score': array([0.991863  , 0.99224146, 0.99220992, 0.992273  , 0.992683  ,\n",
       "        0.99255685, 0.99233608, 0.99249377, 0.99239915, 0.99255685])}"
      ]
     },
     "execution_count": 38,
     "metadata": {},
     "output_type": "execute_result"
    }
   ],
   "source": [
    "model=RandomForestClassifier(random_state=42)\n",
    "CV_result=cross_validate(model,x,y,cv=10,n_jobs=-1,return_train_score=True)\n",
    "CV_result"
   ]
  },
  {
   "cell_type": "code",
   "execution_count": 39,
   "metadata": {},
   "outputs": [
    {
     "data": {
      "text/plain": [
       "0.9655407323304003"
      ]
     },
     "execution_count": 39,
     "metadata": {},
     "output_type": "execute_result"
    }
   ],
   "source": [
    "CV_result['test_score'].mean()"
   ]
  },
  {
   "cell_type": "code",
   "execution_count": 40,
   "metadata": {},
   "outputs": [],
   "source": [
    "model1=GaussianNB()\n",
    "model1.fit(x_train_over_sampled,y_train_over_sampled)\n",
    "y_pred=model1.predict(x_test)"
   ]
  },
  {
   "cell_type": "code",
   "execution_count": 41,
   "metadata": {},
   "outputs": [
    {
     "data": {
      "image/png": "[encoded data removed]",
      "text/plain": [
       "<Figure size 1080x432 with 4 Axes>"
      ]
     },
     "metadata": {
      "needs_background": "light"
     },
     "output_type": "display_data"
    }
   ],
   "source": [
    "warnings.filterwarnings(\"ignore\")\n",
    "fig = plt.figure(figsize=(15,6))\n",
    "\n",
    "ax1 = fig.add_subplot(121)\n",
    "skplt.metrics.plot_confusion_matrix(y_test, y_pred,\n",
    "                                    title=\"Confusion Matrix\",\n",
    "                                    cmap=\"Blues\",\n",
    "                                    ax=ax1)\n",
    "\n",
    "ax2 = fig.add_subplot(122)\n",
    "skplt.metrics.plot_confusion_matrix(y_test, y_pred,\n",
    "                                    normalize=True,\n",
    "                                    title=\"Confusion Matrix\",\n",
    "                                    cmap=\"Reds\",\n",
    "                                    ax=ax2);"
   ]
  },
  {
   "cell_type": "code",
   "execution_count": 42,
   "metadata": {},
   "outputs": [
    {
     "data": {
      "text/plain": [
       "<matplotlib.axes._subplots.AxesSubplot at 0x1fc50f8f248>"
      ]
     },
     "execution_count": 42,
     "metadata": {},
     "output_type": "execute_result"
    },
    {
     "data": {
      "image/png": "[encoded data removed]",
      "text/plain": [
       "<Figure size 504x504 with 1 Axes>"
      ]
     },
     "metadata": {
      "needs_background": "light"
     },
     "output_type": "display_data"
    }
   ],
   "source": [
    "y_gbc_proba = model1.predict_proba(x_test)\n",
    "fig, ax = plt.subplots(figsize=(7, 7))\n",
    "skplt.metrics.plot_roc(y_test, y_gbc_proba, title = 'ROC Plot for NB over-sampled',ax=ax)"
   ]
  },
  {
   "cell_type": "code",
   "execution_count": 43,
   "metadata": {},
   "outputs": [
    {
     "data": {
      "text/plain": [
       "<matplotlib.axes._subplots.AxesSubplot at 0x1fc51c59408>"
      ]
     },
     "execution_count": 43,
     "metadata": {},
     "output_type": "execute_result"
    },
    {
     "data": {
      "image/png": "[encoded data removed]",
      "text/plain": [
       "<Figure size 504x504 with 1 Axes>"
      ]
     },
     "metadata": {
      "needs_background": "light"
     },
     "output_type": "display_data"
    }
   ],
   "source": [
    "fig, ax = plt.subplots(figsize=(7, 7))\n",
    "skplt.metrics.plot_precision_recall(y_test, y_gbc_proba, title = 'PR Curve for over-sampled',ax=ax)"
   ]
  },
  {
   "cell_type": "markdown",
   "metadata": {},
   "source": [
    "# Trying Under-sampling to fix imbalanced classes"
   ]
  },
  {
   "cell_type": "code",
   "execution_count": 44,
   "metadata": {},
   "outputs": [],
   "source": [
    "x_train,x_test,y_train,y_test=train_test_split(x,y,test_size=0.25)"
   ]
  },
  {
   "cell_type": "code",
   "execution_count": 45,
   "metadata": {},
   "outputs": [],
   "source": [
    "rus=RandomUnderSampler()\n",
    "x_train_under_sampled, y_train_under_sampled=rus.fit_resample(x_train,y_train)"
   ]
  },
  {
   "cell_type": "code",
   "execution_count": 46,
   "metadata": {},
   "outputs": [
    {
     "data": {
      "text/plain": [
       "1    1584\n",
       "0    1584\n",
       "Name: Paid, dtype: int64"
      ]
     },
     "execution_count": 46,
     "metadata": {},
     "output_type": "execute_result"
    }
   ],
   "source": [
    "y_train_under_sampled.value_counts()"
   ]
  },
  {
   "cell_type": "code",
   "execution_count": 47,
   "metadata": {},
   "outputs": [
    {
     "data": {
      "text/plain": [
       "array([[-0.28526022, -0.39529158, -0.48387016, ..., -0.45785948,\n",
       "        -0.55562113, -0.41365428],\n",
       "       [-0.28526022, -0.39529158, -0.48387016, ..., -0.45785948,\n",
       "        -0.55562113, -0.4241871 ],\n",
       "       [-0.28526022, -0.39529158, -0.48387016, ..., -0.45785948,\n",
       "        -0.55562113, -0.42468867],\n",
       "       ...,\n",
       "       [-0.28526022, -0.04727159,  0.26409077, ...,  0.30324163,\n",
       "         0.12563724, -0.0620146 ],\n",
       "       [ 0.73783872,  0.3007484 , -0.1098897 , ..., -0.2675842 ,\n",
       "        -0.04467735,  0.00666643],\n",
       "       [-0.28526022, -0.39529158, -0.42154009, ..., -0.45785948,\n",
       "        -0.21499194, -0.2909408 ]])"
      ]
     },
     "execution_count": 47,
     "metadata": {},
     "output_type": "execute_result"
    }
   ],
   "source": [
    "scaler2=StandardScaler()\n",
    "scaler2.fit(x_train_under_sampled)\n",
    "x_train_under_sampled=scaler2.transform(x_train_under_sampled)\n",
    "x_test=scaler2.transform(x_test)\n",
    "x_train_over_sampled"
   ]
  },
  {
   "cell_type": "code",
   "execution_count": 48,
   "metadata": {},
   "outputs": [
    {
     "name": "stdout",
     "output_type": "stream",
     "text": [
      "using LR: \n",
      "Training Accuracy :0.05995004163197336\n",
      "Testing Accuracy :0.9369891008174387\n",
      "Confusion matrix:\n",
      " [[7801  456]\n",
      " [  99  452]]\n",
      "Recall: 0.8203266787658802\n",
      "precision: 0.4977973568281938\n",
      "F1-score: 0.6196024674434544\n",
      "Fbeta-score: 0.5402820941907721\n",
      "              precision    recall  f1-score   support\n",
      "\n",
      "           0       0.99      0.94      0.97      8257\n",
      "           1       0.50      0.82      0.62       551\n",
      "\n",
      "    accuracy                           0.94      8808\n",
      "   macro avg       0.74      0.88      0.79      8808\n",
      "weighted avg       0.96      0.94      0.94      8808\n",
      "\n",
      "---------------------------------\n",
      "using KNN: \n",
      "Training Accuracy :0.05995004163197336\n",
      "Testing Accuracy :0.9076975476839237\n",
      "Confusion matrix:\n",
      " [[7525  732]\n",
      " [  81  470]]\n",
      "Recall: 0.852994555353902\n",
      "precision: 0.3910149750415973\n",
      "F1-score: 0.5362236166571592\n",
      "Fbeta-score: 0.4385146482552715\n",
      "              precision    recall  f1-score   support\n",
      "\n",
      "           0       0.99      0.91      0.95      8257\n",
      "           1       0.39      0.85      0.54       551\n",
      "\n",
      "    accuracy                           0.91      8808\n",
      "   macro avg       0.69      0.88      0.74      8808\n",
      "weighted avg       0.95      0.91      0.92      8808\n",
      "\n",
      "---------------------------------\n",
      "using DT: \n",
      "Training Accuracy :0.05995004163197336\n",
      "Testing Accuracy :0.8888510445049954\n",
      "Confusion matrix:\n",
      " [[7381  876]\n",
      " [ 103  448]]\n",
      "Recall: 0.8130671506352087\n",
      "precision: 0.338368580060423\n",
      "F1-score: 0.47786666666666666\n",
      "Fbeta-score: 0.38310244569864893\n",
      "              precision    recall  f1-score   support\n",
      "\n",
      "           0       0.99      0.89      0.94      8257\n",
      "           1       0.34      0.81      0.48       551\n",
      "\n",
      "    accuracy                           0.89      8808\n",
      "   macro avg       0.66      0.85      0.71      8808\n",
      "weighted avg       0.95      0.89      0.91      8808\n",
      "\n",
      "---------------------------------\n",
      "using SVC: \n",
      "Training Accuracy :0.05995004163197336\n",
      "Testing Accuracy :0.9338101725703906\n",
      "Confusion matrix:\n",
      " [[7777  480]\n",
      " [ 103  448]]\n",
      "Recall: 0.8130671506352087\n",
      "precision: 0.4827586206896552\n",
      "F1-score: 0.605814739688979\n",
      "Fbeta-score: 0.5254515599343186\n",
      "              precision    recall  f1-score   support\n",
      "\n",
      "           0       0.99      0.94      0.96      8257\n",
      "           1       0.48      0.81      0.61       551\n",
      "\n",
      "    accuracy                           0.93      8808\n",
      "   macro avg       0.73      0.88      0.78      8808\n",
      "weighted avg       0.96      0.93      0.94      8808\n",
      "\n",
      "---------------------------------\n",
      "using NB: \n",
      "Training Accuracy :0.05995004163197336\n",
      "Testing Accuracy :0.9543596730245232\n",
      "Confusion matrix:\n",
      " [[7988  269]\n",
      " [ 133  418]]\n",
      "Recall: 0.7586206896551724\n",
      "precision: 0.6084425036390102\n",
      "F1-score: 0.6752827140549273\n",
      "Fbeta-score: 0.6335253107002122\n",
      "              precision    recall  f1-score   support\n",
      "\n",
      "           0       0.98      0.97      0.98      8257\n",
      "           1       0.61      0.76      0.68       551\n",
      "\n",
      "    accuracy                           0.95      8808\n",
      "   macro avg       0.80      0.86      0.83      8808\n",
      "weighted avg       0.96      0.95      0.96      8808\n",
      "\n",
      "---------------------------------\n",
      "using XGC: \n",
      "[18:46:40] WARNING: C:/Users/Administrator/workspace/xgboost-win64_release_1.5.1/src/learner.cc:1115: Starting in XGBoost 1.3.0, the default evaluation metric used with the objective 'binary:logistic' was changed from 'error' to 'logloss'. Explicitly set eval_metric if you'd like to restore the old behavior.\n",
      "Training Accuracy :0.05995004163197336\n",
      "Testing Accuracy :0.9096276112624887\n",
      "Confusion matrix:\n",
      " [[7546  711]\n",
      " [  85  466]]\n",
      "Recall: 0.8457350272232305\n",
      "precision: 0.3959218351741716\n",
      "F1-score: 0.5393518518518519\n",
      "Fbeta-score: 0.4430500095075109\n",
      "              precision    recall  f1-score   support\n",
      "\n",
      "           0       0.99      0.91      0.95      8257\n",
      "           1       0.40      0.85      0.54       551\n",
      "\n",
      "    accuracy                           0.91      8808\n",
      "   macro avg       0.69      0.88      0.74      8808\n",
      "weighted avg       0.95      0.91      0.92      8808\n",
      "\n",
      "---------------------------------\n",
      "using RF: \n",
      "Training Accuracy :0.05995004163197336\n",
      "Testing Accuracy :0.885899182561308\n",
      "Confusion matrix:\n",
      " [[7343  914]\n",
      " [  91  460]]\n",
      "Recall: 0.8348457350272233\n",
      "precision: 0.33478893740902477\n",
      "F1-score: 0.4779220779220779\n",
      "Fbeta-score: 0.3803538944931371\n",
      "              precision    recall  f1-score   support\n",
      "\n",
      "           0       0.99      0.89      0.94      8257\n",
      "           1       0.33      0.83      0.48       551\n",
      "\n",
      "    accuracy                           0.89      8808\n",
      "   macro avg       0.66      0.86      0.71      8808\n",
      "weighted avg       0.95      0.89      0.91      8808\n",
      "\n",
      "---------------------------------\n"
     ]
    }
   ],
   "source": [
    "for name,model in  models.items():\n",
    "    print(f'using {name}: ')\n",
    "    model.fit(x_train_under_sampled,y_train_under_sampled)\n",
    "    y_pred=model.predict(x_test)\n",
    "    print(f'Training Accuracy :{accuracy_score(y_train,model.predict(x_train))}')\n",
    "    print(f'Testing Accuracy :{accuracy_score(y_test,y_pred)}')\n",
    "    print(f'Confusion matrix:\\n {confusion_matrix(y_test,y_pred)}')\n",
    "    print(f'Recall: {recall_score(y_test,y_pred)}')\n",
    "    print(f'precision: {precision_score(y_test,y_pred)}')\n",
    "    print(f'F1-score: {f1_score(y_test,y_pred)}')\n",
    "    print(f'Fbeta-score: {fbeta_score(y_test,y_pred,beta=0.5)}')\n",
    "    print(classification_report(y_test,y_pred))\n",
    "    print('-'*33)\n",
    "    "
   ]
  },
  {
   "cell_type": "code",
   "execution_count": 49,
   "metadata": {},
   "outputs": [
    {
     "data": {
      "text/plain": [
       "{'fit_time': array([0.04103565, 0.04303932, 0.04003477, 0.03903389, 0.04103565,\n",
       "        0.03903008, 0.04403687, 0.0400331 , 0.04203677, 0.04103756]),\n",
       " 'score_time': array([0.00300527, 0.00300193, 0.00300455, 0.00200176, 0.00300527,\n",
       "        0.00200176, 0.00300288, 0.00300407, 0.0030055 , 0.00400281]),\n",
       " 'test_score': array([0.96792506, 0.96423503, 0.96423503, 0.96253193, 0.95912575,\n",
       "        0.9577065 , 0.95628726, 0.94578484, 0.9577065 , 0.95202952]),\n",
       " 'train_score': array([0.99189453, 0.99230454, 0.99224146, 0.99230454, 0.99271454,\n",
       "        0.99255685, 0.99233608, 0.99252531, 0.99239915, 0.99255685])}"
      ]
     },
     "execution_count": 49,
     "metadata": {},
     "output_type": "execute_result"
    }
   ],
   "source": [
    "model=DecisionTreeClassifier(random_state=42)\n",
    "CV_result=cross_validate(model,x,y,cv=10,n_jobs=-1,return_train_score=True)\n",
    "CV_result"
   ]
  },
  {
   "cell_type": "code",
   "execution_count": 50,
   "metadata": {},
   "outputs": [
    {
     "data": {
      "text/plain": [
       "0.958756741413568"
      ]
     },
     "execution_count": 50,
     "metadata": {},
     "output_type": "execute_result"
    }
   ],
   "source": [
    "CV_result['test_score'].mean()"
   ]
  },
  {
   "cell_type": "code",
   "execution_count": 51,
   "metadata": {},
   "outputs": [
    {
     "data": {
      "text/plain": [
       "{'fit_time': array([7.47878742, 7.5108161 , 7.45476317, 7.37469029, 7.48279023,\n",
       "        7.25758505, 7.39470768, 7.32864809, 7.51181412, 7.10744691]),\n",
       " 'score_time': array([1.13603044, 1.15604949, 1.21209931, 1.22210717, 1.15504861,\n",
       "        1.12301874, 1.21710277, 1.16505718, 1.13603044, 1.18607044]),\n",
       " 'test_score': array([0.97331819, 0.97672438, 0.97133125, 0.97246665, 0.96622197,\n",
       "        0.96338348, 0.96423503, 0.95401646, 0.96565427, 0.95515186]),\n",
       " 'train_score': array([0.96751506, 0.96685275, 0.96732583, 0.96745198, 0.96836661,\n",
       "        0.96808276, 0.96798814, 0.9679566 , 0.96760968, 0.96896584])}"
      ]
     },
     "execution_count": 51,
     "metadata": {},
     "output_type": "execute_result"
    }
   ],
   "source": [
    "model=SVC(random_state=42)\n",
    "CV_result=cross_validate(model,x,y,cv=10,n_jobs=-1,return_train_score=True)\n",
    "CV_result"
   ]
  },
  {
   "cell_type": "code",
   "execution_count": 52,
   "metadata": {},
   "outputs": [
    {
     "data": {
      "text/plain": [
       "0.9662503548112404"
      ]
     },
     "execution_count": 52,
     "metadata": {},
     "output_type": "execute_result"
    }
   ],
   "source": [
    "CV_result['test_score'].mean()"
   ]
  },
  {
   "cell_type": "code",
   "execution_count": 53,
   "metadata": {},
   "outputs": [
    {
     "data": {
      "text/plain": [
       "{'fit_time': array([1.53138232, 1.52437615, 1.49134564, 1.4983511 , 1.5103662 ,\n",
       "        1.52137351, 1.47833276, 1.45931554, 1.52237344, 1.47833514]),\n",
       " 'score_time': array([0.05204582, 0.04403806, 0.0520494 , 0.04604387, 0.04603863,\n",
       "        0.04704189, 0.04804492, 0.04504204, 0.05404782, 0.05204725]),\n",
       " 'test_score': array([0.97019586, 0.96849276, 0.9710474 , 0.96877661, 0.96508657,\n",
       "        0.96338348, 0.96054499, 0.95628726, 0.97019586, 0.96139654]),\n",
       " 'train_score': array([0.991863  , 0.99224146, 0.99220992, 0.992273  , 0.992683  ,\n",
       "        0.99255685, 0.99233608, 0.99249377, 0.99239915, 0.99255685])}"
      ]
     },
     "execution_count": 53,
     "metadata": {},
     "output_type": "execute_result"
    }
   ],
   "source": [
    "model=RandomForestClassifier(random_state=42)\n",
    "CV_result=cross_validate(model,x,y,cv=10,n_jobs=-1,return_train_score=True)\n",
    "CV_result"
   ]
  },
  {
   "cell_type": "code",
   "execution_count": 54,
   "metadata": {},
   "outputs": [
    {
     "data": {
      "text/plain": [
       "0.9655407323304003"
      ]
     },
     "execution_count": 54,
     "metadata": {},
     "output_type": "execute_result"
    }
   ],
   "source": [
    "CV_result['test_score'].mean()"
   ]
  },
  {
   "cell_type": "code",
   "execution_count": 55,
   "metadata": {},
   "outputs": [],
   "source": [
    "model2=GaussianNB()\n",
    "model2.fit(x_train_under_sampled,y_train_under_sampled)\n",
    "y_pred=model2.predict(x_test)"
   ]
  },
  {
   "cell_type": "code",
   "execution_count": 56,
   "metadata": {},
   "outputs": [
    {
     "data": {
      "image/png": "[encoded data removed]",
      "text/plain": [
       "<Figure size 1080x432 with 4 Axes>"
      ]
     },
     "metadata": {
      "needs_background": "light"
     },
     "output_type": "display_data"
    }
   ],
   "source": [
    "warnings.filterwarnings(\"ignore\")\n",
    "fig = plt.figure(figsize=(15,6))\n",
    "\n",
    "ax1 = fig.add_subplot(121)\n",
    "skplt.metrics.plot_confusion_matrix(y_test, y_pred,\n",
    "                                    title=\"Confusion Matrix\",\n",
    "                                    cmap=\"Blues\",\n",
    "                                    ax=ax1)\n",
    "\n",
    "ax2 = fig.add_subplot(122)\n",
    "skplt.metrics.plot_confusion_matrix(y_test, y_pred,\n",
    "                                    normalize=True,\n",
    "                                    title=\"Confusion Matrix\",\n",
    "                                    cmap=\"Reds\",\n",
    "                                    ax=ax2);"
   ]
  },
  {
   "cell_type": "code",
   "execution_count": 57,
   "metadata": {},
   "outputs": [],
   "source": [
    "y_gbc_proba = model2.predict_proba(x_test)"
   ]
  },
  {
   "cell_type": "code",
   "execution_count": 58,
   "metadata": {},
   "outputs": [
    {
     "data": {
      "text/plain": [
       "<matplotlib.axes._subplots.AxesSubplot at 0x1fc51874f48>"
      ]
     },
     "execution_count": 58,
     "metadata": {},
     "output_type": "execute_result"
    },
    {
     "data": {
      "image/png": "[encoded data removed]",
      "text/plain": [
       "<Figure size 504x504 with 1 Axes>"
      ]
     },
     "metadata": {
      "needs_background": "light"
     },
     "output_type": "display_data"
    }
   ],
   "source": [
    "fig, ax = plt.subplots(figsize=(7, 7))\n",
    "skplt.metrics.plot_roc(y_test, y_gbc_proba, title = 'ROC Plot for NB under-sampled',ax=ax)"
   ]
  },
  {
   "cell_type": "code",
   "execution_count": 59,
   "metadata": {},
   "outputs": [
    {
     "data": {
      "text/plain": [
       "<matplotlib.axes._subplots.AxesSubplot at 0x1fc518c1b48>"
      ]
     },
     "execution_count": 59,
     "metadata": {},
     "output_type": "execute_result"
    },
    {
     "data": {
      "image/png": "[encoded data removed]",
      "text/plain": [
       "<Figure size 504x504 with 1 Axes>"
      ]
     },
     "metadata": {
      "needs_background": "light"
     },
     "output_type": "display_data"
    }
   ],
   "source": [
    "fig, ax = plt.subplots(figsize=(7, 7))\n",
    "skplt.metrics.plot_precision_recall(y_test, y_gbc_proba, title = 'PR Curve for NB under-sampled',ax=ax)"
   ]
  },
  {
   "cell_type": "markdown",
   "metadata": {},
   "source": [
    "## As we saw , over-sampling data gave us better overall result's , I choosed naive_bayes as  our model as it gave us the best accuracy & F1-score "
   ]
  },
  {
   "cell_type": "markdown",
   "metadata": {},
   "source": [
    "## Saving the model for deployment"
   ]
  },
  {
   "cell_type": "code",
   "execution_count": null,
   "metadata": {},
   "outputs": [],
   "source": [
    "import joblib\n",
    "joblib.dump(model1,'model.h5')\n",
    "joblib.dump(scaler1,'scaler.h5')"
   ]
  },
  {
   "cell_type": "code",
   "execution_count": null,
   "metadata": {},
   "outputs": [],
   "source": []
  },
  {
   "cell_type": "code",
   "execution_count": null,
   "metadata": {},
   "outputs": [],
   "source": []
  },
  {
   "cell_type": "code",
   "execution_count": null,
   "metadata": {},
   "outputs": [],
   "source": []
  },
  {
   "cell_type": "code",
   "execution_count": null,
   "metadata": {},
   "outputs": [],
   "source": []
  }
 ],
 "metadata": {
  "kernelspec": {
   "display_name": "Python 3",
   "language": "python",
   "name": "python3"
  },
  "language_info": {
   "codemirror_mode": {
    "name": "ipython",
    "version": 3
   },
   "file_extension": ".py",
   "mimetype": "text/x-python",
   "name": "python",
   "nbconvert_exporter": "python",
   "pygments_lexer": "ipython3",
   "version": "3.7.6"
  }
 },
 "nbformat": 4,
 "nbformat_minor": 4
}
