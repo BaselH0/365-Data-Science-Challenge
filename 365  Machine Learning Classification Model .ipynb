{
 "cells": [
  {
   "cell_type": "code",
   "execution_count": 1,
   "metadata": {},
   "outputs": [],
   "source": [
    "import pandas as pd\n",
    "import seaborn as sns\n",
    "import matplotlib.pyplot as plt\n",
    "from sklearn.model_selection import train_test_split\n",
    "from sklearn.linear_model import LogisticRegression\n",
    "from sklearn.neighbors import KNeighborsClassifier\n",
    "from sklearn.naive_bayes import GaussianNB\n",
    "from sklearn.tree import DecisionTreeClassifier\n",
    "from sklearn.ensemble import RandomForestClassifier\n",
    "from xgboost import XGBClassifier\n",
    "from sklearn.svm import SVC\n",
    "from sklearn.metrics import confusion_matrix,accuracy_score,recall_score,precision_score,f1_score,fbeta_score,classification_report\n",
    "from imblearn.over_sampling import SMOTE\n",
    "from sklearn.preprocessing import StandardScaler\n",
    "from sklearn.tree import DecisionTreeClassifier\n",
    "from sklearn.svm import SVC\n",
    "from sklearn.ensemble import RandomForestClassifier\n",
    "from sklearn.model_selection import cross_val_predict,cross_val_score,cross_validate\n",
    "from imblearn.under_sampling import RandomUnderSampler\n",
    "import scikitplot as skplt\n",
    "import sys\n",
    "import warnings"
   ]
  },
  {
   "cell_type": "code",
   "execution_count": 2,
   "metadata": {},
   "outputs": [],
   "source": [
    "df1=pd.read_csv('365_course_ratings.csv')\n",
    "df2=pd.read_csv('365_student_quizzes.csv')\n",
    "df3=pd.read_csv('365_quiz_info.csv')\n",
    "df4=pd.read_csv('365_exam_info.csv')\n",
    "df5=pd.read_csv('365_course_info.csv')\n",
    "df6=pd.read_csv('365_student_purchases.csv')\n",
    "df7=pd.read_csv('365_student_learning.csv')\n",
    "df8=pd.read_csv('365_student_info.csv')\n",
    "df9=pd.read_csv('365_student_hub_questions.csv')\n",
    "df10=pd.read_csv('365_student_engagement.csv')\n",
    "df11=pd.read_csv('365_student_exams.csv')"
   ]
  },
  {
   "cell_type": "code",
   "execution_count": 3,
   "metadata": {},
   "outputs": [
    {
     "data": {
      "text/html": [
       "<div>\n",
       "<style scoped>\n",
       "    .dataframe tbody tr th:only-of-type {\n",
       "        vertical-align: middle;\n",
       "    }\n",
       "\n",
       "    .dataframe tbody tr th {\n",
       "        vertical-align: top;\n",
       "    }\n",
       "\n",
       "    .dataframe thead th {\n",
       "        text-align: right;\n",
       "    }\n",
       "</style>\n",
       "<table border=\"1\" class=\"dataframe\">\n",
       "  <thead>\n",
       "    <tr style=\"text-align: right;\">\n",
       "      <th></th>\n",
       "      <th>course_id</th>\n",
       "      <th>student_id</th>\n",
       "      <th>course_rating</th>\n",
       "      <th>date_rated</th>\n",
       "    </tr>\n",
       "  </thead>\n",
       "  <tbody>\n",
       "    <tr>\n",
       "      <th>1294</th>\n",
       "      <td>7</td>\n",
       "      <td>282207</td>\n",
       "      <td>4</td>\n",
       "      <td>2022-07-22</td>\n",
       "    </tr>\n",
       "  </tbody>\n",
       "</table>\n",
       "</div>"
      ],
      "text/plain": [
       "      course_id  student_id  course_rating  date_rated\n",
       "1294          7      282207              4  2022-07-22"
      ]
     },
     "execution_count": 3,
     "metadata": {},
     "output_type": "execute_result"
    }
   ],
   "source": [
    "df1.sample(1)"
   ]
  },
  {
   "cell_type": "code",
   "execution_count": 4,
   "metadata": {},
   "outputs": [
    {
     "data": {
      "text/html": [
       "<div>\n",
       "<style scoped>\n",
       "    .dataframe tbody tr th:only-of-type {\n",
       "        vertical-align: middle;\n",
       "    }\n",
       "\n",
       "    .dataframe tbody tr th {\n",
       "        vertical-align: top;\n",
       "    }\n",
       "\n",
       "    .dataframe thead th {\n",
       "        text-align: right;\n",
       "    }\n",
       "</style>\n",
       "<table border=\"1\" class=\"dataframe\">\n",
       "  <thead>\n",
       "    <tr style=\"text-align: right;\">\n",
       "      <th></th>\n",
       "      <th>student_id</th>\n",
       "      <th>quiz_id</th>\n",
       "      <th>question_id</th>\n",
       "      <th>answer_id</th>\n",
       "    </tr>\n",
       "  </thead>\n",
       "  <tbody>\n",
       "    <tr>\n",
       "      <th>130111</th>\n",
       "      <td>290206</td>\n",
       "      <td>22</td>\n",
       "      <td>22</td>\n",
       "      <td>86.0</td>\n",
       "    </tr>\n",
       "  </tbody>\n",
       "</table>\n",
       "</div>"
      ],
      "text/plain": [
       "        student_id  quiz_id  question_id  answer_id\n",
       "130111      290206       22           22       86.0"
      ]
     },
     "execution_count": 4,
     "metadata": {},
     "output_type": "execute_result"
    }
   ],
   "source": [
    "df2.sample(1)"
   ]
  },
  {
   "cell_type": "code",
   "execution_count": 5,
   "metadata": {},
   "outputs": [
    {
     "data": {
      "text/html": [
       "<div>\n",
       "<style scoped>\n",
       "    .dataframe tbody tr th:only-of-type {\n",
       "        vertical-align: middle;\n",
       "    }\n",
       "\n",
       "    .dataframe tbody tr th {\n",
       "        vertical-align: top;\n",
       "    }\n",
       "\n",
       "    .dataframe thead th {\n",
       "        text-align: right;\n",
       "    }\n",
       "</style>\n",
       "<table border=\"1\" class=\"dataframe\">\n",
       "  <thead>\n",
       "    <tr style=\"text-align: right;\">\n",
       "      <th></th>\n",
       "      <th>quiz_id</th>\n",
       "      <th>question_id</th>\n",
       "      <th>answer_id</th>\n",
       "      <th>answer_correct</th>\n",
       "    </tr>\n",
       "  </thead>\n",
       "  <tbody>\n",
       "    <tr>\n",
       "      <th>3521</th>\n",
       "      <td>355</td>\n",
       "      <td>896</td>\n",
       "      <td>3538</td>\n",
       "      <td>n</td>\n",
       "    </tr>\n",
       "  </tbody>\n",
       "</table>\n",
       "</div>"
      ],
      "text/plain": [
       "      quiz_id  question_id  answer_id answer_correct\n",
       "3521      355          896       3538              n"
      ]
     },
     "execution_count": 5,
     "metadata": {},
     "output_type": "execute_result"
    }
   ],
   "source": [
    "df3.sample(1)"
   ]
  },
  {
   "cell_type": "code",
   "execution_count": 6,
   "metadata": {},
   "outputs": [
    {
     "data": {
      "text/html": [
       "<div>\n",
       "<style scoped>\n",
       "    .dataframe tbody tr th:only-of-type {\n",
       "        vertical-align: middle;\n",
       "    }\n",
       "\n",
       "    .dataframe tbody tr th {\n",
       "        vertical-align: top;\n",
       "    }\n",
       "\n",
       "    .dataframe thead th {\n",
       "        text-align: right;\n",
       "    }\n",
       "</style>\n",
       "<table border=\"1\" class=\"dataframe\">\n",
       "  <thead>\n",
       "    <tr style=\"text-align: right;\">\n",
       "      <th></th>\n",
       "      <th>exam_id</th>\n",
       "      <th>exam_category</th>\n",
       "      <th>exam_duration</th>\n",
       "    </tr>\n",
       "  </thead>\n",
       "  <tbody>\n",
       "    <tr>\n",
       "      <th>37</th>\n",
       "      <td>541</td>\n",
       "      <td>2</td>\n",
       "      <td>10</td>\n",
       "    </tr>\n",
       "  </tbody>\n",
       "</table>\n",
       "</div>"
      ],
      "text/plain": [
       "    exam_id  exam_category  exam_duration\n",
       "37      541              2             10"
      ]
     },
     "execution_count": 6,
     "metadata": {},
     "output_type": "execute_result"
    }
   ],
   "source": [
    "df4.sample(1)"
   ]
  },
  {
   "cell_type": "code",
   "execution_count": 7,
   "metadata": {},
   "outputs": [
    {
     "data": {
      "text/html": [
       "<div>\n",
       "<style scoped>\n",
       "    .dataframe tbody tr th:only-of-type {\n",
       "        vertical-align: middle;\n",
       "    }\n",
       "\n",
       "    .dataframe tbody tr th {\n",
       "        vertical-align: top;\n",
       "    }\n",
       "\n",
       "    .dataframe thead th {\n",
       "        text-align: right;\n",
       "    }\n",
       "</style>\n",
       "<table border=\"1\" class=\"dataframe\">\n",
       "  <thead>\n",
       "    <tr style=\"text-align: right;\">\n",
       "      <th></th>\n",
       "      <th>course_id</th>\n",
       "      <th>course_title</th>\n",
       "    </tr>\n",
       "  </thead>\n",
       "  <tbody>\n",
       "    <tr>\n",
       "      <th>40</th>\n",
       "      <td>52</td>\n",
       "      <td>Machine Learning with Support Vector Machines</td>\n",
       "    </tr>\n",
       "  </tbody>\n",
       "</table>\n",
       "</div>"
      ],
      "text/plain": [
       "    course_id                                   course_title\n",
       "40         52  Machine Learning with Support Vector Machines"
      ]
     },
     "execution_count": 7,
     "metadata": {},
     "output_type": "execute_result"
    }
   ],
   "source": [
    "df5.sample(1)"
   ]
  },
  {
   "cell_type": "code",
   "execution_count": 8,
   "metadata": {},
   "outputs": [
    {
     "data": {
      "text/html": [
       "<div>\n",
       "<style scoped>\n",
       "    .dataframe tbody tr th:only-of-type {\n",
       "        vertical-align: middle;\n",
       "    }\n",
       "\n",
       "    .dataframe tbody tr th {\n",
       "        vertical-align: top;\n",
       "    }\n",
       "\n",
       "    .dataframe thead th {\n",
       "        text-align: right;\n",
       "    }\n",
       "</style>\n",
       "<table border=\"1\" class=\"dataframe\">\n",
       "  <thead>\n",
       "    <tr style=\"text-align: right;\">\n",
       "      <th></th>\n",
       "      <th>purchase_id</th>\n",
       "      <th>student_id</th>\n",
       "      <th>purchase_type</th>\n",
       "      <th>date_purchased</th>\n",
       "    </tr>\n",
       "  </thead>\n",
       "  <tbody>\n",
       "    <tr>\n",
       "      <th>977</th>\n",
       "      <td>18596</td>\n",
       "      <td>271035</td>\n",
       "      <td>Annual</td>\n",
       "      <td>2022-04-17</td>\n",
       "    </tr>\n",
       "  </tbody>\n",
       "</table>\n",
       "</div>"
      ],
      "text/plain": [
       "     purchase_id  student_id purchase_type date_purchased\n",
       "977        18596      271035        Annual     2022-04-17"
      ]
     },
     "execution_count": 8,
     "metadata": {},
     "output_type": "execute_result"
    }
   ],
   "source": [
    "df6.sample(1)"
   ]
  },
  {
   "cell_type": "code",
   "execution_count": 9,
   "metadata": {},
   "outputs": [
    {
     "data": {
      "text/html": [
       "<div>\n",
       "<style scoped>\n",
       "    .dataframe tbody tr th:only-of-type {\n",
       "        vertical-align: middle;\n",
       "    }\n",
       "\n",
       "    .dataframe tbody tr th {\n",
       "        vertical-align: top;\n",
       "    }\n",
       "\n",
       "    .dataframe thead th {\n",
       "        text-align: right;\n",
       "    }\n",
       "</style>\n",
       "<table border=\"1\" class=\"dataframe\">\n",
       "  <thead>\n",
       "    <tr style=\"text-align: right;\">\n",
       "      <th></th>\n",
       "      <th>student_id</th>\n",
       "      <th>course_id</th>\n",
       "      <th>minutes_watched</th>\n",
       "      <th>date_watched</th>\n",
       "    </tr>\n",
       "  </thead>\n",
       "  <tbody>\n",
       "    <tr>\n",
       "      <th>43205</th>\n",
       "      <td>278833</td>\n",
       "      <td>7</td>\n",
       "      <td>10.8</td>\n",
       "      <td>2022-06-21</td>\n",
       "    </tr>\n",
       "  </tbody>\n",
       "</table>\n",
       "</div>"
      ],
      "text/plain": [
       "       student_id  course_id  minutes_watched date_watched\n",
       "43205      278833          7             10.8   2022-06-21"
      ]
     },
     "execution_count": 9,
     "metadata": {},
     "output_type": "execute_result"
    }
   ],
   "source": [
    "df7.sample(1)"
   ]
  },
  {
   "cell_type": "code",
   "execution_count": 10,
   "metadata": {},
   "outputs": [
    {
     "data": {
      "text/html": [
       "<div>\n",
       "<style scoped>\n",
       "    .dataframe tbody tr th:only-of-type {\n",
       "        vertical-align: middle;\n",
       "    }\n",
       "\n",
       "    .dataframe tbody tr th {\n",
       "        vertical-align: top;\n",
       "    }\n",
       "\n",
       "    .dataframe thead th {\n",
       "        text-align: right;\n",
       "    }\n",
       "</style>\n",
       "<table border=\"1\" class=\"dataframe\">\n",
       "  <thead>\n",
       "    <tr style=\"text-align: right;\">\n",
       "      <th></th>\n",
       "      <th>student_id</th>\n",
       "      <th>student_country</th>\n",
       "      <th>date_registered</th>\n",
       "    </tr>\n",
       "  </thead>\n",
       "  <tbody>\n",
       "    <tr>\n",
       "      <th>12969</th>\n",
       "      <td>272182</td>\n",
       "      <td>BR</td>\n",
       "      <td>2022-04-27</td>\n",
       "    </tr>\n",
       "  </tbody>\n",
       "</table>\n",
       "</div>"
      ],
      "text/plain": [
       "       student_id student_country date_registered\n",
       "12969      272182              BR      2022-04-27"
      ]
     },
     "execution_count": 10,
     "metadata": {},
     "output_type": "execute_result"
    }
   ],
   "source": [
    "df8.sample(1)"
   ]
  },
  {
   "cell_type": "code",
   "execution_count": 11,
   "metadata": {},
   "outputs": [
    {
     "data": {
      "text/html": [
       "<div>\n",
       "<style scoped>\n",
       "    .dataframe tbody tr th:only-of-type {\n",
       "        vertical-align: middle;\n",
       "    }\n",
       "\n",
       "    .dataframe tbody tr th {\n",
       "        vertical-align: top;\n",
       "    }\n",
       "\n",
       "    .dataframe thead th {\n",
       "        text-align: right;\n",
       "    }\n",
       "</style>\n",
       "<table border=\"1\" class=\"dataframe\">\n",
       "  <thead>\n",
       "    <tr style=\"text-align: right;\">\n",
       "      <th></th>\n",
       "      <th>hub_question_id</th>\n",
       "      <th>student_id</th>\n",
       "      <th>date_question_asked</th>\n",
       "    </tr>\n",
       "  </thead>\n",
       "  <tbody>\n",
       "    <tr>\n",
       "      <th>747</th>\n",
       "      <td>10181</td>\n",
       "      <td>263496</td>\n",
       "      <td>2022-10-04</td>\n",
       "    </tr>\n",
       "  </tbody>\n",
       "</table>\n",
       "</div>"
      ],
      "text/plain": [
       "     hub_question_id  student_id date_question_asked\n",
       "747            10181      263496          2022-10-04"
      ]
     },
     "execution_count": 11,
     "metadata": {},
     "output_type": "execute_result"
    }
   ],
   "source": [
    "df9.sample(1)"
   ]
  },
  {
   "cell_type": "code",
   "execution_count": 12,
   "metadata": {},
   "outputs": [
    {
     "data": {
      "text/html": [
       "<div>\n",
       "<style scoped>\n",
       "    .dataframe tbody tr th:only-of-type {\n",
       "        vertical-align: middle;\n",
       "    }\n",
       "\n",
       "    .dataframe tbody tr th {\n",
       "        vertical-align: top;\n",
       "    }\n",
       "\n",
       "    .dataframe thead th {\n",
       "        text-align: right;\n",
       "    }\n",
       "</style>\n",
       "<table border=\"1\" class=\"dataframe\">\n",
       "  <thead>\n",
       "    <tr style=\"text-align: right;\">\n",
       "      <th></th>\n",
       "      <th>engagement_id</th>\n",
       "      <th>student_id</th>\n",
       "      <th>engagement_quizzes</th>\n",
       "      <th>engagement_exams</th>\n",
       "      <th>engagement_lessons</th>\n",
       "      <th>date_engaged</th>\n",
       "    </tr>\n",
       "  </thead>\n",
       "  <tbody>\n",
       "    <tr>\n",
       "      <th>12431</th>\n",
       "      <td>378948</td>\n",
       "      <td>259028</td>\n",
       "      <td>0</td>\n",
       "      <td>0</td>\n",
       "      <td>1</td>\n",
       "      <td>2022-01-25</td>\n",
       "    </tr>\n",
       "  </tbody>\n",
       "</table>\n",
       "</div>"
      ],
      "text/plain": [
       "       engagement_id  student_id  engagement_quizzes  engagement_exams  \\\n",
       "12431         378948      259028                   0                 0   \n",
       "\n",
       "       engagement_lessons date_engaged  \n",
       "12431                   1   2022-01-25  "
      ]
     },
     "execution_count": 12,
     "metadata": {},
     "output_type": "execute_result"
    }
   ],
   "source": [
    "df10.sample(1)"
   ]
  },
  {
   "cell_type": "code",
   "execution_count": 13,
   "metadata": {},
   "outputs": [
    {
     "data": {
      "text/html": [
       "<div>\n",
       "<style scoped>\n",
       "    .dataframe tbody tr th:only-of-type {\n",
       "        vertical-align: middle;\n",
       "    }\n",
       "\n",
       "    .dataframe tbody tr th {\n",
       "        vertical-align: top;\n",
       "    }\n",
       "\n",
       "    .dataframe thead th {\n",
       "        text-align: right;\n",
       "    }\n",
       "</style>\n",
       "<table border=\"1\" class=\"dataframe\">\n",
       "  <thead>\n",
       "    <tr style=\"text-align: right;\">\n",
       "      <th></th>\n",
       "      <th>exam_attempt_id</th>\n",
       "      <th>student_id</th>\n",
       "      <th>exam_id</th>\n",
       "      <th>exam_result</th>\n",
       "      <th>exam_completion_time</th>\n",
       "      <th>date_exam_completed</th>\n",
       "    </tr>\n",
       "  </thead>\n",
       "  <tbody>\n",
       "    <tr>\n",
       "      <th>22826</th>\n",
       "      <td>221183</td>\n",
       "      <td>285625</td>\n",
       "      <td>702</td>\n",
       "      <td>67</td>\n",
       "      <td>1.75</td>\n",
       "      <td>2022-08-16</td>\n",
       "    </tr>\n",
       "  </tbody>\n",
       "</table>\n",
       "</div>"
      ],
      "text/plain": [
       "       exam_attempt_id  student_id  exam_id  exam_result  \\\n",
       "22826           221183      285625      702           67   \n",
       "\n",
       "       exam_completion_time date_exam_completed  \n",
       "22826                  1.75          2022-08-16  "
      ]
     },
     "execution_count": 13,
     "metadata": {},
     "output_type": "execute_result"
    }
   ],
   "source": [
    "df11.sample(1)"
   ]
  },
  {
   "cell_type": "markdown",
   "metadata": {},
   "source": [
    "# Feature engineering & Pre-Processing"
   ]
  },
  {
   "cell_type": "code",
   "execution_count": 14,
   "metadata": {},
   "outputs": [],
   "source": [
    "df1['counter']=1\n",
    "engfr=[]\n",
    "for x in df8['student_id']:\n",
    "    engfr.append(df1.loc[df1['student_id'] == x, 'counter'].sum())\n",
    "df8[\"courses_rated\"] = engfr"
   ]
  },
  {
   "cell_type": "code",
   "execution_count": 15,
   "metadata": {},
   "outputs": [
    {
     "data": {
      "text/html": [
       "<div>\n",
       "<style scoped>\n",
       "    .dataframe tbody tr th:only-of-type {\n",
       "        vertical-align: middle;\n",
       "    }\n",
       "\n",
       "    .dataframe tbody tr th {\n",
       "        vertical-align: top;\n",
       "    }\n",
       "\n",
       "    .dataframe thead th {\n",
       "        text-align: right;\n",
       "    }\n",
       "</style>\n",
       "<table border=\"1\" class=\"dataframe\">\n",
       "  <thead>\n",
       "    <tr style=\"text-align: right;\">\n",
       "      <th></th>\n",
       "      <th>student_id</th>\n",
       "      <th>student_country</th>\n",
       "      <th>date_registered</th>\n",
       "      <th>courses_rated</th>\n",
       "    </tr>\n",
       "  </thead>\n",
       "  <tbody>\n",
       "    <tr>\n",
       "      <th>26084</th>\n",
       "      <td>285730</td>\n",
       "      <td>PK</td>\n",
       "      <td>2022-08-15</td>\n",
       "      <td>0</td>\n",
       "    </tr>\n",
       "    <tr>\n",
       "      <th>34528</th>\n",
       "      <td>294791</td>\n",
       "      <td>PK</td>\n",
       "      <td>2022-10-15</td>\n",
       "      <td>0</td>\n",
       "    </tr>\n",
       "    <tr>\n",
       "      <th>31937</th>\n",
       "      <td>291846</td>\n",
       "      <td>PL</td>\n",
       "      <td>2022-09-23</td>\n",
       "      <td>0</td>\n",
       "    </tr>\n",
       "    <tr>\n",
       "      <th>8485</th>\n",
       "      <td>267484</td>\n",
       "      <td>ID</td>\n",
       "      <td>2022-03-16</td>\n",
       "      <td>0</td>\n",
       "    </tr>\n",
       "    <tr>\n",
       "      <th>2386</th>\n",
       "      <td>261250</td>\n",
       "      <td>AE</td>\n",
       "      <td>2022-01-22</td>\n",
       "      <td>0</td>\n",
       "    </tr>\n",
       "    <tr>\n",
       "      <th>11527</th>\n",
       "      <td>270677</td>\n",
       "      <td>SA</td>\n",
       "      <td>2022-04-13</td>\n",
       "      <td>0</td>\n",
       "    </tr>\n",
       "    <tr>\n",
       "      <th>4560</th>\n",
       "      <td>263479</td>\n",
       "      <td>US</td>\n",
       "      <td>2022-02-13</td>\n",
       "      <td>0</td>\n",
       "    </tr>\n",
       "    <tr>\n",
       "      <th>11071</th>\n",
       "      <td>270199</td>\n",
       "      <td>RO</td>\n",
       "      <td>2022-04-09</td>\n",
       "      <td>0</td>\n",
       "    </tr>\n",
       "    <tr>\n",
       "      <th>14238</th>\n",
       "      <td>273498</td>\n",
       "      <td>BR</td>\n",
       "      <td>2022-05-11</td>\n",
       "      <td>0</td>\n",
       "    </tr>\n",
       "    <tr>\n",
       "      <th>24022</th>\n",
       "      <td>283632</td>\n",
       "      <td>MX</td>\n",
       "      <td>2022-08-02</td>\n",
       "      <td>0</td>\n",
       "    </tr>\n",
       "  </tbody>\n",
       "</table>\n",
       "</div>"
      ],
      "text/plain": [
       "       student_id student_country date_registered  courses_rated\n",
       "26084      285730              PK      2022-08-15              0\n",
       "34528      294791              PK      2022-10-15              0\n",
       "31937      291846              PL      2022-09-23              0\n",
       "8485       267484              ID      2022-03-16              0\n",
       "2386       261250              AE      2022-01-22              0\n",
       "11527      270677              SA      2022-04-13              0\n",
       "4560       263479              US      2022-02-13              0\n",
       "11071      270199              RO      2022-04-09              0\n",
       "14238      273498              BR      2022-05-11              0\n",
       "24022      283632              MX      2022-08-02              0"
      ]
     },
     "execution_count": 15,
     "metadata": {},
     "output_type": "execute_result"
    }
   ],
   "source": [
    "df8.sample(10)"
   ]
  },
  {
   "cell_type": "code",
   "execution_count": 16,
   "metadata": {},
   "outputs": [],
   "source": [
    "df7=df7.drop_duplicates(\n",
    "  subset = ['student_id', 'course_id'],\n",
    "  keep = 'last').reset_index(drop = True)"
   ]
  },
  {
   "cell_type": "code",
   "execution_count": 17,
   "metadata": {},
   "outputs": [],
   "source": [
    "df7['counter']=1\n",
    "courses_watched_by_student=[]\n",
    "for x in df8['student_id']:\n",
    "    courses_watched_by_student.append(df7.loc[df7['student_id'] == x, 'counter'].sum())\n",
    "df8[\"courses_watched\"] = courses_watched_by_student"
   ]
  },
  {
   "cell_type": "code",
   "execution_count": 18,
   "metadata": {},
   "outputs": [
    {
     "data": {
      "text/html": [
       "<div>\n",
       "<style scoped>\n",
       "    .dataframe tbody tr th:only-of-type {\n",
       "        vertical-align: middle;\n",
       "    }\n",
       "\n",
       "    .dataframe tbody tr th {\n",
       "        vertical-align: top;\n",
       "    }\n",
       "\n",
       "    .dataframe thead th {\n",
       "        text-align: right;\n",
       "    }\n",
       "</style>\n",
       "<table border=\"1\" class=\"dataframe\">\n",
       "  <thead>\n",
       "    <tr style=\"text-align: right;\">\n",
       "      <th></th>\n",
       "      <th>student_id</th>\n",
       "      <th>student_country</th>\n",
       "      <th>date_registered</th>\n",
       "      <th>courses_rated</th>\n",
       "      <th>courses_watched</th>\n",
       "    </tr>\n",
       "  </thead>\n",
       "  <tbody>\n",
       "    <tr>\n",
       "      <th>25620</th>\n",
       "      <td>285260</td>\n",
       "      <td>IT</td>\n",
       "      <td>2022-08-13</td>\n",
       "      <td>0</td>\n",
       "      <td>0</td>\n",
       "    </tr>\n",
       "    <tr>\n",
       "      <th>4899</th>\n",
       "      <td>263831</td>\n",
       "      <td>AE</td>\n",
       "      <td>2022-02-16</td>\n",
       "      <td>0</td>\n",
       "      <td>0</td>\n",
       "    </tr>\n",
       "    <tr>\n",
       "      <th>30611</th>\n",
       "      <td>290375</td>\n",
       "      <td>GB</td>\n",
       "      <td>2022-09-12</td>\n",
       "      <td>0</td>\n",
       "      <td>1</td>\n",
       "    </tr>\n",
       "    <tr>\n",
       "      <th>1694</th>\n",
       "      <td>260539</td>\n",
       "      <td>SA</td>\n",
       "      <td>2022-01-15</td>\n",
       "      <td>0</td>\n",
       "      <td>0</td>\n",
       "    </tr>\n",
       "    <tr>\n",
       "      <th>30244</th>\n",
       "      <td>289995</td>\n",
       "      <td>PK</td>\n",
       "      <td>2022-09-09</td>\n",
       "      <td>0</td>\n",
       "      <td>0</td>\n",
       "    </tr>\n",
       "    <tr>\n",
       "      <th>14871</th>\n",
       "      <td>274142</td>\n",
       "      <td>MY</td>\n",
       "      <td>2022-05-16</td>\n",
       "      <td>0</td>\n",
       "      <td>0</td>\n",
       "    </tr>\n",
       "    <tr>\n",
       "      <th>14851</th>\n",
       "      <td>274118</td>\n",
       "      <td>AZ</td>\n",
       "      <td>2022-05-16</td>\n",
       "      <td>0</td>\n",
       "      <td>1</td>\n",
       "    </tr>\n",
       "    <tr>\n",
       "      <th>20382</th>\n",
       "      <td>279867</td>\n",
       "      <td>US</td>\n",
       "      <td>2022-06-30</td>\n",
       "      <td>0</td>\n",
       "      <td>0</td>\n",
       "    </tr>\n",
       "    <tr>\n",
       "      <th>10469</th>\n",
       "      <td>269573</td>\n",
       "      <td>NG</td>\n",
       "      <td>2022-04-04</td>\n",
       "      <td>0</td>\n",
       "      <td>1</td>\n",
       "    </tr>\n",
       "    <tr>\n",
       "      <th>12381</th>\n",
       "      <td>271570</td>\n",
       "      <td>PK</td>\n",
       "      <td>2022-04-22</td>\n",
       "      <td>0</td>\n",
       "      <td>0</td>\n",
       "    </tr>\n",
       "  </tbody>\n",
       "</table>\n",
       "</div>"
      ],
      "text/plain": [
       "       student_id student_country date_registered  courses_rated  \\\n",
       "25620      285260              IT      2022-08-13              0   \n",
       "4899       263831              AE      2022-02-16              0   \n",
       "30611      290375              GB      2022-09-12              0   \n",
       "1694       260539              SA      2022-01-15              0   \n",
       "30244      289995              PK      2022-09-09              0   \n",
       "14871      274142              MY      2022-05-16              0   \n",
       "14851      274118              AZ      2022-05-16              0   \n",
       "20382      279867              US      2022-06-30              0   \n",
       "10469      269573              NG      2022-04-04              0   \n",
       "12381      271570              PK      2022-04-22              0   \n",
       "\n",
       "       courses_watched  \n",
       "25620                0  \n",
       "4899                 0  \n",
       "30611                1  \n",
       "1694                 0  \n",
       "30244                0  \n",
       "14871                0  \n",
       "14851                1  \n",
       "20382                0  \n",
       "10469                1  \n",
       "12381                0  "
      ]
     },
     "execution_count": 18,
     "metadata": {},
     "output_type": "execute_result"
    }
   ],
   "source": [
    "df8.sample(10)"
   ]
  },
  {
   "cell_type": "code",
   "execution_count": 19,
   "metadata": {},
   "outputs": [],
   "source": [
    "df10['counter']=1\n",
    "engfr=[]\n",
    "for x in df8['student_id']:\n",
    "    engfr.append(df10.loc[df10['student_id'] == x, 'counter'].sum())\n",
    "df8[\"number_of_engagments\"] = engfr\n",
    "\n",
    "cor=[]\n",
    "for x in df8['student_id']:\n",
    "    cor.append(df10.loc[df10['student_id'] == x, 'engagement_lessons'].sum())\n",
    "df8[\"engagments_lessons\"] = cor\n",
    "\n",
    "ex=[]\n",
    "for x in df8['student_id']:\n",
    "    ex.append(df10.loc[df10['student_id'] == x, 'engagement_exams'].sum())\n",
    "df8[\"engagement_exams\"] = ex\n",
    "\n",
    "qu=[]\n",
    "for x in df8['student_id']:\n",
    "    qu.append(df10.loc[df10['student_id'] == x, 'engagement_quizzes'].sum())\n",
    "df8[\"engagement_quizzes\"] = qu"
   ]
  },
  {
   "cell_type": "code",
   "execution_count": 20,
   "metadata": {},
   "outputs": [
    {
     "data": {
      "text/html": [
       "<div>\n",
       "<style scoped>\n",
       "    .dataframe tbody tr th:only-of-type {\n",
       "        vertical-align: middle;\n",
       "    }\n",
       "\n",
       "    .dataframe tbody tr th {\n",
       "        vertical-align: top;\n",
       "    }\n",
       "\n",
       "    .dataframe thead th {\n",
       "        text-align: right;\n",
       "    }\n",
       "</style>\n",
       "<table border=\"1\" class=\"dataframe\">\n",
       "  <thead>\n",
       "    <tr style=\"text-align: right;\">\n",
       "      <th></th>\n",
       "      <th>student_id</th>\n",
       "      <th>student_country</th>\n",
       "      <th>date_registered</th>\n",
       "      <th>courses_rated</th>\n",
       "      <th>courses_watched</th>\n",
       "      <th>number_of_engagments</th>\n",
       "      <th>engagments_lessons</th>\n",
       "      <th>engagement_exams</th>\n",
       "      <th>engagement_quizzes</th>\n",
       "    </tr>\n",
       "  </thead>\n",
       "  <tbody>\n",
       "    <tr>\n",
       "      <th>0</th>\n",
       "      <td>258798</td>\n",
       "      <td>IN</td>\n",
       "      <td>2022-01-01</td>\n",
       "      <td>0</td>\n",
       "      <td>1</td>\n",
       "      <td>1</td>\n",
       "      <td>1</td>\n",
       "      <td>0</td>\n",
       "      <td>0</td>\n",
       "    </tr>\n",
       "    <tr>\n",
       "      <th>1</th>\n",
       "      <td>258799</td>\n",
       "      <td>CO</td>\n",
       "      <td>2022-01-01</td>\n",
       "      <td>0</td>\n",
       "      <td>0</td>\n",
       "      <td>0</td>\n",
       "      <td>0</td>\n",
       "      <td>0</td>\n",
       "      <td>0</td>\n",
       "    </tr>\n",
       "    <tr>\n",
       "      <th>2</th>\n",
       "      <td>258800</td>\n",
       "      <td>CA</td>\n",
       "      <td>2022-01-01</td>\n",
       "      <td>0</td>\n",
       "      <td>9</td>\n",
       "      <td>29</td>\n",
       "      <td>29</td>\n",
       "      <td>5</td>\n",
       "      <td>10</td>\n",
       "    </tr>\n",
       "    <tr>\n",
       "      <th>3</th>\n",
       "      <td>258801</td>\n",
       "      <td>IN</td>\n",
       "      <td>2022-01-01</td>\n",
       "      <td>0</td>\n",
       "      <td>0</td>\n",
       "      <td>0</td>\n",
       "      <td>0</td>\n",
       "      <td>0</td>\n",
       "      <td>0</td>\n",
       "    </tr>\n",
       "    <tr>\n",
       "      <th>4</th>\n",
       "      <td>258802</td>\n",
       "      <td>US</td>\n",
       "      <td>2022-01-01</td>\n",
       "      <td>0</td>\n",
       "      <td>0</td>\n",
       "      <td>0</td>\n",
       "      <td>0</td>\n",
       "      <td>0</td>\n",
       "      <td>0</td>\n",
       "    </tr>\n",
       "    <tr>\n",
       "      <th>...</th>\n",
       "      <td>...</td>\n",
       "      <td>...</td>\n",
       "      <td>...</td>\n",
       "      <td>...</td>\n",
       "      <td>...</td>\n",
       "      <td>...</td>\n",
       "      <td>...</td>\n",
       "      <td>...</td>\n",
       "      <td>...</td>\n",
       "    </tr>\n",
       "    <tr>\n",
       "      <th>35225</th>\n",
       "      <td>295511</td>\n",
       "      <td>CM</td>\n",
       "      <td>2022-10-20</td>\n",
       "      <td>0</td>\n",
       "      <td>1</td>\n",
       "      <td>1</td>\n",
       "      <td>1</td>\n",
       "      <td>0</td>\n",
       "      <td>1</td>\n",
       "    </tr>\n",
       "    <tr>\n",
       "      <th>35226</th>\n",
       "      <td>295512</td>\n",
       "      <td>CA</td>\n",
       "      <td>2022-10-20</td>\n",
       "      <td>0</td>\n",
       "      <td>1</td>\n",
       "      <td>1</td>\n",
       "      <td>1</td>\n",
       "      <td>0</td>\n",
       "      <td>1</td>\n",
       "    </tr>\n",
       "    <tr>\n",
       "      <th>35227</th>\n",
       "      <td>295513</td>\n",
       "      <td>SA</td>\n",
       "      <td>2022-10-20</td>\n",
       "      <td>0</td>\n",
       "      <td>1</td>\n",
       "      <td>1</td>\n",
       "      <td>1</td>\n",
       "      <td>0</td>\n",
       "      <td>0</td>\n",
       "    </tr>\n",
       "    <tr>\n",
       "      <th>35228</th>\n",
       "      <td>295514</td>\n",
       "      <td>NL</td>\n",
       "      <td>2022-10-20</td>\n",
       "      <td>0</td>\n",
       "      <td>0</td>\n",
       "      <td>0</td>\n",
       "      <td>0</td>\n",
       "      <td>0</td>\n",
       "      <td>0</td>\n",
       "    </tr>\n",
       "    <tr>\n",
       "      <th>35229</th>\n",
       "      <td>295515</td>\n",
       "      <td>SG</td>\n",
       "      <td>2022-10-20</td>\n",
       "      <td>0</td>\n",
       "      <td>0</td>\n",
       "      <td>0</td>\n",
       "      <td>0</td>\n",
       "      <td>0</td>\n",
       "      <td>0</td>\n",
       "    </tr>\n",
       "  </tbody>\n",
       "</table>\n",
       "<p>35230 rows × 9 columns</p>\n",
       "</div>"
      ],
      "text/plain": [
       "       student_id student_country date_registered  courses_rated  \\\n",
       "0          258798              IN      2022-01-01              0   \n",
       "1          258799              CO      2022-01-01              0   \n",
       "2          258800              CA      2022-01-01              0   \n",
       "3          258801              IN      2022-01-01              0   \n",
       "4          258802              US      2022-01-01              0   \n",
       "...           ...             ...             ...            ...   \n",
       "35225      295511              CM      2022-10-20              0   \n",
       "35226      295512              CA      2022-10-20              0   \n",
       "35227      295513              SA      2022-10-20              0   \n",
       "35228      295514              NL      2022-10-20              0   \n",
       "35229      295515              SG      2022-10-20              0   \n",
       "\n",
       "       courses_watched  number_of_engagments  engagments_lessons  \\\n",
       "0                    1                     1                   1   \n",
       "1                    0                     0                   0   \n",
       "2                    9                    29                  29   \n",
       "3                    0                     0                   0   \n",
       "4                    0                     0                   0   \n",
       "...                ...                   ...                 ...   \n",
       "35225                1                     1                   1   \n",
       "35226                1                     1                   1   \n",
       "35227                1                     1                   1   \n",
       "35228                0                     0                   0   \n",
       "35229                0                     0                   0   \n",
       "\n",
       "       engagement_exams  engagement_quizzes  \n",
       "0                     0                   0  \n",
       "1                     0                   0  \n",
       "2                     5                  10  \n",
       "3                     0                   0  \n",
       "4                     0                   0  \n",
       "...                 ...                 ...  \n",
       "35225                 0                   1  \n",
       "35226                 0                   1  \n",
       "35227                 0                   0  \n",
       "35228                 0                   0  \n",
       "35229                 0                   0  \n",
       "\n",
       "[35230 rows x 9 columns]"
      ]
     },
     "execution_count": 20,
     "metadata": {},
     "output_type": "execute_result"
    }
   ],
   "source": [
    "df8"
   ]
  },
  {
   "cell_type": "code",
   "execution_count": 21,
   "metadata": {},
   "outputs": [],
   "source": [
    "paid_students_id=[]\n",
    "for x in df6['student_id']:\n",
    "    paid_students_id.append(x)\n",
    "    \n",
    "def paid_free(x):\n",
    "    if x in paid_students_id:\n",
    "        return 1\n",
    "    else:\n",
    "        return 0\n",
    "    \n",
    "df8['Paid']=df8['student_id'].map(paid_free)"
   ]
  },
  {
   "cell_type": "code",
   "execution_count": 22,
   "metadata": {},
   "outputs": [],
   "source": [
    "average_course_rating=[]\n",
    "for x in df8['student_id']:\n",
    "    average_course_rating.append(df1.loc[df1['student_id'] == x, 'course_rating'].mean())\n",
    "df8['average_course_rating'] = average_course_rating\n",
    "\n",
    "minutes_watched_by_student=[]\n",
    "for x in df8['student_id']:\n",
    "    minutes_watched_by_student.append(df7.loc[df7['student_id'] == x, 'minutes_watched'].sum())\n",
    "df8['minutes_watched_by_student']=minutes_watched_by_student"
   ]
  },
  {
   "cell_type": "code",
   "execution_count": 23,
   "metadata": {},
   "outputs": [
    {
     "data": {
      "text/html": [
       "<div>\n",
       "<style scoped>\n",
       "    .dataframe tbody tr th:only-of-type {\n",
       "        vertical-align: middle;\n",
       "    }\n",
       "\n",
       "    .dataframe tbody tr th {\n",
       "        vertical-align: top;\n",
       "    }\n",
       "\n",
       "    .dataframe thead th {\n",
       "        text-align: right;\n",
       "    }\n",
       "</style>\n",
       "<table border=\"1\" class=\"dataframe\">\n",
       "  <thead>\n",
       "    <tr style=\"text-align: right;\">\n",
       "      <th></th>\n",
       "      <th>student_id</th>\n",
       "      <th>student_country</th>\n",
       "      <th>date_registered</th>\n",
       "      <th>courses_rated</th>\n",
       "      <th>courses_watched</th>\n",
       "      <th>number_of_engagments</th>\n",
       "      <th>engagments_lessons</th>\n",
       "      <th>engagement_exams</th>\n",
       "      <th>engagement_quizzes</th>\n",
       "      <th>Paid</th>\n",
       "      <th>average_course_rating</th>\n",
       "      <th>minutes_watched_by_student</th>\n",
       "    </tr>\n",
       "  </thead>\n",
       "  <tbody>\n",
       "    <tr>\n",
       "      <th>0</th>\n",
       "      <td>258798</td>\n",
       "      <td>IN</td>\n",
       "      <td>2022-01-01</td>\n",
       "      <td>0</td>\n",
       "      <td>1</td>\n",
       "      <td>1</td>\n",
       "      <td>1</td>\n",
       "      <td>0</td>\n",
       "      <td>0</td>\n",
       "      <td>0</td>\n",
       "      <td>NaN</td>\n",
       "      <td>0.3</td>\n",
       "    </tr>\n",
       "    <tr>\n",
       "      <th>1</th>\n",
       "      <td>258799</td>\n",
       "      <td>CO</td>\n",
       "      <td>2022-01-01</td>\n",
       "      <td>0</td>\n",
       "      <td>0</td>\n",
       "      <td>0</td>\n",
       "      <td>0</td>\n",
       "      <td>0</td>\n",
       "      <td>0</td>\n",
       "      <td>0</td>\n",
       "      <td>NaN</td>\n",
       "      <td>0.0</td>\n",
       "    </tr>\n",
       "    <tr>\n",
       "      <th>2</th>\n",
       "      <td>258800</td>\n",
       "      <td>CA</td>\n",
       "      <td>2022-01-01</td>\n",
       "      <td>0</td>\n",
       "      <td>9</td>\n",
       "      <td>29</td>\n",
       "      <td>29</td>\n",
       "      <td>5</td>\n",
       "      <td>10</td>\n",
       "      <td>1</td>\n",
       "      <td>NaN</td>\n",
       "      <td>74.3</td>\n",
       "    </tr>\n",
       "    <tr>\n",
       "      <th>3</th>\n",
       "      <td>258801</td>\n",
       "      <td>IN</td>\n",
       "      <td>2022-01-01</td>\n",
       "      <td>0</td>\n",
       "      <td>0</td>\n",
       "      <td>0</td>\n",
       "      <td>0</td>\n",
       "      <td>0</td>\n",
       "      <td>0</td>\n",
       "      <td>0</td>\n",
       "      <td>NaN</td>\n",
       "      <td>0.0</td>\n",
       "    </tr>\n",
       "    <tr>\n",
       "      <th>4</th>\n",
       "      <td>258802</td>\n",
       "      <td>US</td>\n",
       "      <td>2022-01-01</td>\n",
       "      <td>0</td>\n",
       "      <td>0</td>\n",
       "      <td>0</td>\n",
       "      <td>0</td>\n",
       "      <td>0</td>\n",
       "      <td>0</td>\n",
       "      <td>0</td>\n",
       "      <td>NaN</td>\n",
       "      <td>0.0</td>\n",
       "    </tr>\n",
       "    <tr>\n",
       "      <th>...</th>\n",
       "      <td>...</td>\n",
       "      <td>...</td>\n",
       "      <td>...</td>\n",
       "      <td>...</td>\n",
       "      <td>...</td>\n",
       "      <td>...</td>\n",
       "      <td>...</td>\n",
       "      <td>...</td>\n",
       "      <td>...</td>\n",
       "      <td>...</td>\n",
       "      <td>...</td>\n",
       "      <td>...</td>\n",
       "    </tr>\n",
       "    <tr>\n",
       "      <th>35225</th>\n",
       "      <td>295511</td>\n",
       "      <td>CM</td>\n",
       "      <td>2022-10-20</td>\n",
       "      <td>0</td>\n",
       "      <td>1</td>\n",
       "      <td>1</td>\n",
       "      <td>1</td>\n",
       "      <td>0</td>\n",
       "      <td>1</td>\n",
       "      <td>0</td>\n",
       "      <td>NaN</td>\n",
       "      <td>7.8</td>\n",
       "    </tr>\n",
       "    <tr>\n",
       "      <th>35226</th>\n",
       "      <td>295512</td>\n",
       "      <td>CA</td>\n",
       "      <td>2022-10-20</td>\n",
       "      <td>0</td>\n",
       "      <td>1</td>\n",
       "      <td>1</td>\n",
       "      <td>1</td>\n",
       "      <td>0</td>\n",
       "      <td>1</td>\n",
       "      <td>0</td>\n",
       "      <td>NaN</td>\n",
       "      <td>10.4</td>\n",
       "    </tr>\n",
       "    <tr>\n",
       "      <th>35227</th>\n",
       "      <td>295513</td>\n",
       "      <td>SA</td>\n",
       "      <td>2022-10-20</td>\n",
       "      <td>0</td>\n",
       "      <td>1</td>\n",
       "      <td>1</td>\n",
       "      <td>1</td>\n",
       "      <td>0</td>\n",
       "      <td>0</td>\n",
       "      <td>0</td>\n",
       "      <td>NaN</td>\n",
       "      <td>0.1</td>\n",
       "    </tr>\n",
       "    <tr>\n",
       "      <th>35228</th>\n",
       "      <td>295514</td>\n",
       "      <td>NL</td>\n",
       "      <td>2022-10-20</td>\n",
       "      <td>0</td>\n",
       "      <td>0</td>\n",
       "      <td>0</td>\n",
       "      <td>0</td>\n",
       "      <td>0</td>\n",
       "      <td>0</td>\n",
       "      <td>0</td>\n",
       "      <td>NaN</td>\n",
       "      <td>0.0</td>\n",
       "    </tr>\n",
       "    <tr>\n",
       "      <th>35229</th>\n",
       "      <td>295515</td>\n",
       "      <td>SG</td>\n",
       "      <td>2022-10-20</td>\n",
       "      <td>0</td>\n",
       "      <td>0</td>\n",
       "      <td>0</td>\n",
       "      <td>0</td>\n",
       "      <td>0</td>\n",
       "      <td>0</td>\n",
       "      <td>0</td>\n",
       "      <td>NaN</td>\n",
       "      <td>0.0</td>\n",
       "    </tr>\n",
       "  </tbody>\n",
       "</table>\n",
       "<p>35230 rows × 12 columns</p>\n",
       "</div>"
      ],
      "text/plain": [
       "       student_id student_country date_registered  courses_rated  \\\n",
       "0          258798              IN      2022-01-01              0   \n",
       "1          258799              CO      2022-01-01              0   \n",
       "2          258800              CA      2022-01-01              0   \n",
       "3          258801              IN      2022-01-01              0   \n",
       "4          258802              US      2022-01-01              0   \n",
       "...           ...             ...             ...            ...   \n",
       "35225      295511              CM      2022-10-20              0   \n",
       "35226      295512              CA      2022-10-20              0   \n",
       "35227      295513              SA      2022-10-20              0   \n",
       "35228      295514              NL      2022-10-20              0   \n",
       "35229      295515              SG      2022-10-20              0   \n",
       "\n",
       "       courses_watched  number_of_engagments  engagments_lessons  \\\n",
       "0                    1                     1                   1   \n",
       "1                    0                     0                   0   \n",
       "2                    9                    29                  29   \n",
       "3                    0                     0                   0   \n",
       "4                    0                     0                   0   \n",
       "...                ...                   ...                 ...   \n",
       "35225                1                     1                   1   \n",
       "35226                1                     1                   1   \n",
       "35227                1                     1                   1   \n",
       "35228                0                     0                   0   \n",
       "35229                0                     0                   0   \n",
       "\n",
       "       engagement_exams  engagement_quizzes  Paid  average_course_rating  \\\n",
       "0                     0                   0     0                    NaN   \n",
       "1                     0                   0     0                    NaN   \n",
       "2                     5                  10     1                    NaN   \n",
       "3                     0                   0     0                    NaN   \n",
       "4                     0                   0     0                    NaN   \n",
       "...                 ...                 ...   ...                    ...   \n",
       "35225                 0                   1     0                    NaN   \n",
       "35226                 0                   1     0                    NaN   \n",
       "35227                 0                   0     0                    NaN   \n",
       "35228                 0                   0     0                    NaN   \n",
       "35229                 0                   0     0                    NaN   \n",
       "\n",
       "       minutes_watched_by_student  \n",
       "0                             0.3  \n",
       "1                             0.0  \n",
       "2                            74.3  \n",
       "3                             0.0  \n",
       "4                             0.0  \n",
       "...                           ...  \n",
       "35225                         7.8  \n",
       "35226                        10.4  \n",
       "35227                         0.1  \n",
       "35228                         0.0  \n",
       "35229                         0.0  \n",
       "\n",
       "[35230 rows x 12 columns]"
      ]
     },
     "execution_count": 23,
     "metadata": {},
     "output_type": "execute_result"
    }
   ],
   "source": [
    "df8"
   ]
  },
  {
   "cell_type": "markdown",
   "metadata": {},
   "source": [
    "# Finding Correlation"
   ]
  },
  {
   "cell_type": "code",
   "execution_count": 24,
   "metadata": {},
   "outputs": [
    {
     "data": {
      "image/png": "[encoded data removed]",
      "text/plain": [
       "<Figure size 432x288 with 2 Axes>"
      ]
     },
     "metadata": {
      "needs_background": "light"
     },
     "output_type": "display_data"
    }
   ],
   "source": [
    "corr_matrix = df8.corr()\n",
    "sns.heatmap(corr_matrix, annot=True)\n",
    "plt.show()"
   ]
  },
  {
   "cell_type": "code",
   "execution_count": 25,
   "metadata": {},
   "outputs": [],
   "source": [
    "df8=df8.drop(['student_country','date_registered','average_course_rating'], axis=1)"
   ]
  },
  {
   "cell_type": "code",
   "execution_count": null,
   "metadata": {},
   "outputs": [],
   "source": []
  },
  {
   "cell_type": "markdown",
   "metadata": {},
   "source": [
    "# Splitting the dataset & Buliding the model"
   ]
  },
  {
   "cell_type": "code",
   "execution_count": 31,
   "metadata": {},
   "outputs": [
    {
     "data": {
      "text/html": [
       "<div>\n",
       "<style scoped>\n",
       "    .dataframe tbody tr th:only-of-type {\n",
       "        vertical-align: middle;\n",
       "    }\n",
       "\n",
       "    .dataframe tbody tr th {\n",
       "        vertical-align: top;\n",
       "    }\n",
       "\n",
       "    .dataframe thead th {\n",
       "        text-align: right;\n",
       "    }\n",
       "</style>\n",
       "<table border=\"1\" class=\"dataframe\">\n",
       "  <thead>\n",
       "    <tr style=\"text-align: right;\">\n",
       "      <th></th>\n",
       "      <th>courses_rated</th>\n",
       "      <th>courses_watched</th>\n",
       "      <th>number_of_engagments</th>\n",
       "      <th>engagments_lessons</th>\n",
       "      <th>engagement_exams</th>\n",
       "      <th>engagement_quizzes</th>\n",
       "      <th>minutes_watched_by_student</th>\n",
       "    </tr>\n",
       "  </thead>\n",
       "  <tbody>\n",
       "    <tr>\n",
       "      <th>0</th>\n",
       "      <td>0</td>\n",
       "      <td>1</td>\n",
       "      <td>1</td>\n",
       "      <td>1</td>\n",
       "      <td>0</td>\n",
       "      <td>0</td>\n",
       "      <td>0.3</td>\n",
       "    </tr>\n",
       "    <tr>\n",
       "      <th>1</th>\n",
       "      <td>0</td>\n",
       "      <td>0</td>\n",
       "      <td>0</td>\n",
       "      <td>0</td>\n",
       "      <td>0</td>\n",
       "      <td>0</td>\n",
       "      <td>0.0</td>\n",
       "    </tr>\n",
       "    <tr>\n",
       "      <th>2</th>\n",
       "      <td>0</td>\n",
       "      <td>9</td>\n",
       "      <td>29</td>\n",
       "      <td>29</td>\n",
       "      <td>5</td>\n",
       "      <td>10</td>\n",
       "      <td>74.3</td>\n",
       "    </tr>\n",
       "    <tr>\n",
       "      <th>3</th>\n",
       "      <td>0</td>\n",
       "      <td>0</td>\n",
       "      <td>0</td>\n",
       "      <td>0</td>\n",
       "      <td>0</td>\n",
       "      <td>0</td>\n",
       "      <td>0.0</td>\n",
       "    </tr>\n",
       "    <tr>\n",
       "      <th>4</th>\n",
       "      <td>0</td>\n",
       "      <td>0</td>\n",
       "      <td>0</td>\n",
       "      <td>0</td>\n",
       "      <td>0</td>\n",
       "      <td>0</td>\n",
       "      <td>0.0</td>\n",
       "    </tr>\n",
       "    <tr>\n",
       "      <th>...</th>\n",
       "      <td>...</td>\n",
       "      <td>...</td>\n",
       "      <td>...</td>\n",
       "      <td>...</td>\n",
       "      <td>...</td>\n",
       "      <td>...</td>\n",
       "      <td>...</td>\n",
       "    </tr>\n",
       "    <tr>\n",
       "      <th>35225</th>\n",
       "      <td>0</td>\n",
       "      <td>1</td>\n",
       "      <td>1</td>\n",
       "      <td>1</td>\n",
       "      <td>0</td>\n",
       "      <td>1</td>\n",
       "      <td>7.8</td>\n",
       "    </tr>\n",
       "    <tr>\n",
       "      <th>35226</th>\n",
       "      <td>0</td>\n",
       "      <td>1</td>\n",
       "      <td>1</td>\n",
       "      <td>1</td>\n",
       "      <td>0</td>\n",
       "      <td>1</td>\n",
       "      <td>10.4</td>\n",
       "    </tr>\n",
       "    <tr>\n",
       "      <th>35227</th>\n",
       "      <td>0</td>\n",
       "      <td>1</td>\n",
       "      <td>1</td>\n",
       "      <td>1</td>\n",
       "      <td>0</td>\n",
       "      <td>0</td>\n",
       "      <td>0.1</td>\n",
       "    </tr>\n",
       "    <tr>\n",
       "      <th>35228</th>\n",
       "      <td>0</td>\n",
       "      <td>0</td>\n",
       "      <td>0</td>\n",
       "      <td>0</td>\n",
       "      <td>0</td>\n",
       "      <td>0</td>\n",
       "      <td>0.0</td>\n",
       "    </tr>\n",
       "    <tr>\n",
       "      <th>35229</th>\n",
       "      <td>0</td>\n",
       "      <td>0</td>\n",
       "      <td>0</td>\n",
       "      <td>0</td>\n",
       "      <td>0</td>\n",
       "      <td>0</td>\n",
       "      <td>0.0</td>\n",
       "    </tr>\n",
       "  </tbody>\n",
       "</table>\n",
       "<p>35230 rows × 7 columns</p>\n",
       "</div>"
      ],
      "text/plain": [
       "       courses_rated  courses_watched  number_of_engagments  \\\n",
       "0                  0                1                     1   \n",
       "1                  0                0                     0   \n",
       "2                  0                9                    29   \n",
       "3                  0                0                     0   \n",
       "4                  0                0                     0   \n",
       "...              ...              ...                   ...   \n",
       "35225              0                1                     1   \n",
       "35226              0                1                     1   \n",
       "35227              0                1                     1   \n",
       "35228              0                0                     0   \n",
       "35229              0                0                     0   \n",
       "\n",
       "       engagments_lessons  engagement_exams  engagement_quizzes  \\\n",
       "0                       1                 0                   0   \n",
       "1                       0                 0                   0   \n",
       "2                      29                 5                  10   \n",
       "3                       0                 0                   0   \n",
       "4                       0                 0                   0   \n",
       "...                   ...               ...                 ...   \n",
       "35225                   1                 0                   1   \n",
       "35226                   1                 0                   1   \n",
       "35227                   1                 0                   0   \n",
       "35228                   0                 0                   0   \n",
       "35229                   0                 0                   0   \n",
       "\n",
       "       minutes_watched_by_student  \n",
       "0                             0.3  \n",
       "1                             0.0  \n",
       "2                            74.3  \n",
       "3                             0.0  \n",
       "4                             0.0  \n",
       "...                           ...  \n",
       "35225                         7.8  \n",
       "35226                        10.4  \n",
       "35227                         0.1  \n",
       "35228                         0.0  \n",
       "35229                         0.0  \n",
       "\n",
       "[35230 rows x 7 columns]"
      ]
     },
     "execution_count": 31,
     "metadata": {},
     "output_type": "execute_result"
    }
   ],
   "source": [
    "x=df8.drop(['student_id','Paid'],axis=1)\n",
    "y=df8['Paid']\n",
    "x"
   ]
  },
  {
   "cell_type": "code",
   "execution_count": 27,
   "metadata": {},
   "outputs": [
    {
     "data": {
      "text/plain": [
       "courses_rated                 0\n",
       "courses_watched               0\n",
       "number_of_engagments          0\n",
       "engagments_lessons            0\n",
       "engagement_exams              0\n",
       "engagement_quizzes            0\n",
       "minutes_watched_by_student    0\n",
       "dtype: int64"
      ]
     },
     "execution_count": 27,
     "metadata": {},
     "output_type": "execute_result"
    }
   ],
   "source": [
    "x.isnull().sum()"
   ]
  },
  {
   "cell_type": "code",
   "execution_count": 28,
   "metadata": {},
   "outputs": [],
   "source": [
    "x_train,x_test,y_train,y_test=train_test_split(x,y,test_size=0.25)"
   ]
  },
  {
   "cell_type": "code",
   "execution_count": 29,
   "metadata": {},
   "outputs": [
    {
     "data": {
      "text/plain": [
       "0    24870\n",
       "1     1552\n",
       "Name: Paid, dtype: int64"
      ]
     },
     "execution_count": 29,
     "metadata": {},
     "output_type": "execute_result"
    }
   ],
   "source": [
    "y_train.value_counts()"
   ]
  },
  {
   "cell_type": "markdown",
   "metadata": {},
   "source": [
    "## Trying two methods to fix imbalanced classes , Starting by oversampling SMOTE , it works the following way :\n",
    "\n",
    "### Identify the minority class vector.\n",
    "### Deciding the number of nearest k-nearest neighbour \n",
    "### generating line between the minority data points and any of its neighbors and place a synthetic point\n",
    "\n"
   ]
  },
  {
   "attachments": {
    "the-basic-principle-of-the-synthetic-minority-oversample-technique-smote-algorithm-5452514%20%281%29.png": {
     "image/png": "[encoded data removed]"
    }
   },
   "cell_type": "markdown",
   "metadata": {},
   "source": [
    "![the-basic-principle-of-the-synthetic-minority-oversample-technique-smote-algorithm-5452514%20%281%29.png](attachment:the-basic-principle-of-the-synthetic-minority-oversample-technique-smote-algorithm-5452514%20%281%29.png)"
   ]
  },
  {
   "cell_type": "code",
   "execution_count": 30,
   "metadata": {},
   "outputs": [
    {
     "data": {
      "text/plain": [
       "1    24833\n",
       "0    24833\n",
       "Name: Paid, dtype: int64"
      ]
     },
     "execution_count": 30,
     "metadata": {},
     "output_type": "execute_result"
    }
   ],
   "source": [
    "sampler=SMOTE()\n",
    "x_train_over_sampled,y_train_over_sampled=sampler.fit_resample(x_train,y_train)\n",
    "y_train_over_sampled.value_counts()"
   ]
  },
  {
   "cell_type": "markdown",
   "metadata": {},
   "source": [
    "## Scaling data"
   ]
  },
  {
   "cell_type": "code",
   "execution_count": 31,
   "metadata": {},
   "outputs": [
    {
     "data": {
      "text/plain": [
       "array([[ 0.7120994 ,  0.65284418, -0.04562089, ...,  0.68694528,\n",
       "         0.13004891,  0.38561916],\n",
       "       [-0.27190619, -0.39316392, -0.49172123, ..., -0.46003941,\n",
       "        -0.56197543, -0.43251204],\n",
       "       [-0.27190619, -0.74183328, -0.55544984, ..., -0.46003941,\n",
       "        -0.56197543, -0.43301925],\n",
       "       ...,\n",
       "       [ 4.64812172,  4.48820721,  5.62622618, ...,  7.3776893 ,\n",
       "         5.66624365,  4.52799969],\n",
       "       [-0.27190619, -0.39316392, -0.49172123, ..., -0.46003941,\n",
       "        -0.56197543, -0.21094837],\n",
       "       [-0.27190619,  0.30417481, -0.30053537, ..., -0.2688753 ,\n",
       "        -0.04295717,  0.44889448]])"
      ]
     },
     "execution_count": 31,
     "metadata": {},
     "output_type": "execute_result"
    }
   ],
   "source": [
    "scaler1=StandardScaler()\n",
    "scaler1.fit(x_train_over_sampled)\n",
    "x_train_over_sampled=scaler1.transform(x_train_over_sampled)\n",
    "x_test=scaler1.transform(x_test)\n",
    "x_train_over_sampled"
   ]
  },
  {
   "cell_type": "code",
   "execution_count": 38,
   "metadata": {},
   "outputs": [],
   "source": [
    "models={\n",
    "    'LR':LogisticRegression(),\n",
    "    'KNN':KNeighborsClassifier(),\n",
    "    'DT':DecisionTreeClassifier(),\n",
    "    'SVC':SVC(),\n",
    "    'NB':GaussianNB(),\n",
    "    'XGC':XGBClassifier(),\n",
    "    'RF':RandomForestClassifier()\n",
    "    \n",
    "}"
   ]
  },
  {
   "cell_type": "code",
   "execution_count": null,
   "metadata": {},
   "outputs": [],
   "source": []
  },
  {
   "cell_type": "code",
   "execution_count": 37,
   "metadata": {},
   "outputs": [
    {
     "name": "stdout",
     "output_type": "stream",
     "text": [
      "using LR: \n",
      "Training Accuracy :0.881971570088189\n",
      "Testing Accuracy :0.942211625794732\n",
      "Confusion matrix:\n",
      " [[7875  387]\n",
      " [ 122  424]]\n",
      "Recall: 0.7765567765567766\n",
      "precision: 0.5228113440197287\n",
      "F1-score: 0.6249078850405305\n",
      "Fbeta-score: 0.5593667546174143\n",
      "              precision    recall  f1-score   support\n",
      "\n",
      "           0       0.98      0.95      0.97      8262\n",
      "           1       0.52      0.78      0.62       546\n",
      "\n",
      "    accuracy                           0.94      8808\n",
      "   macro avg       0.75      0.86      0.80      8808\n",
      "weighted avg       0.96      0.94      0.95      8808\n",
      "\n",
      "---------------------------------\n",
      "using KNN: \n",
      "Training Accuracy :0.9309789393146217\n",
      "Testing Accuracy :0.9266575840145322\n",
      "Confusion matrix:\n",
      " [[7741  521]\n",
      " [ 125  421]]\n",
      "Recall: 0.7710622710622711\n",
      "precision: 0.4469214437367304\n",
      "F1-score: 0.5658602150537634\n",
      "Fbeta-score: 0.48794622160407986\n",
      "              precision    recall  f1-score   support\n",
      "\n",
      "           0       0.98      0.94      0.96      8262\n",
      "           1       0.45      0.77      0.57       546\n",
      "\n",
      "    accuracy                           0.93      8808\n",
      "   macro avg       0.72      0.85      0.76      8808\n",
      "weighted avg       0.95      0.93      0.94      8808\n",
      "\n",
      "---------------------------------\n",
      "using DT: \n",
      "Training Accuracy :0.967341843514678\n",
      "Testing Accuracy :0.942211625794732\n",
      "Confusion matrix:\n",
      " [[7937  325]\n",
      " [ 184  362]]\n",
      "Recall: 0.663003663003663\n",
      "precision: 0.5269286754002911\n",
      "F1-score: 0.5871857258718572\n",
      "Fbeta-score: 0.5494839101396478\n",
      "              precision    recall  f1-score   support\n",
      "\n",
      "           0       0.98      0.96      0.97      8262\n",
      "           1       0.53      0.66      0.59       546\n",
      "\n",
      "    accuracy                           0.94      8808\n",
      "   macro avg       0.75      0.81      0.78      8808\n",
      "weighted avg       0.95      0.94      0.95      8808\n",
      "\n",
      "---------------------------------\n",
      "using SVC: \n",
      "Training Accuracy :0.8845689203881931\n",
      "Testing Accuracy :0.9348319709355132\n",
      "Confusion matrix:\n",
      " [[7799  463]\n",
      " [ 111  435]]\n",
      "Recall: 0.7967032967032966\n",
      "precision: 0.4844097995545657\n",
      "F1-score: 0.6024930747922438\n",
      "Fbeta-score: 0.5256162397293379\n",
      "              precision    recall  f1-score   support\n",
      "\n",
      "           0       0.99      0.94      0.96      8262\n",
      "           1       0.48      0.80      0.60       546\n",
      "\n",
      "    accuracy                           0.93      8808\n",
      "   macro avg       0.74      0.87      0.78      8808\n",
      "weighted avg       0.95      0.93      0.94      8808\n",
      "\n",
      "---------------------------------\n",
      "using NB: \n",
      "Training Accuracy :0.8385414569323079\n",
      "Testing Accuracy :0.9633287920072662\n",
      "Confusion matrix:\n",
      " [[8089  173]\n",
      " [ 150  396]]\n",
      "Recall: 0.7252747252747253\n",
      "precision: 0.6959578207381371\n",
      "F1-score: 0.7103139013452915\n",
      "Fbeta-score: 0.7016300496102055\n",
      "              precision    recall  f1-score   support\n",
      "\n",
      "           0       0.98      0.98      0.98      8262\n",
      "           1       0.70      0.73      0.71       546\n",
      "\n",
      "    accuracy                           0.96      8808\n",
      "   macro avg       0.84      0.85      0.85      8808\n",
      "weighted avg       0.96      0.96      0.96      8808\n",
      "\n",
      "---------------------------------\n",
      "using XGC: \n",
      "[16:41:48] WARNING: C:/Users/Administrator/workspace/xgboost-win64_release_1.5.1/src/learner.cc:1115: Starting in XGBoost 1.3.0, the default evaluation metric used with the objective 'binary:logistic' was changed from 'error' to 'logloss'. Explicitly set eval_metric if you'd like to restore the old behavior."
     ]
    },
    {
     "name": "stderr",
     "output_type": "stream",
     "text": [
      "C:\\Users\\101\\anaconda3\\lib\\site-packages\\xgboost\\sklearn.py:1224: UserWarning: The use of label encoder in XGBClassifier is deprecated and will be removed in a future release. To remove this warning, do the following: 1) Pass option use_label_encoder=False when constructing XGBClassifier object; and 2) Encode your labels (y) as integers starting with 0, i.e. 0, 1, 2, ..., [num_class - 1].\n",
      "  warnings.warn(label_encoder_deprecation_msg, UserWarning)\n"
     ]
    },
    {
     "name": "stdout",
     "output_type": "stream",
     "text": [
      "\n",
      "Training Accuracy :0.9322474127169492\n",
      "Testing Accuracy :0.9391462306993642\n",
      "Confusion matrix:\n",
      " [[7861  401]\n",
      " [ 135  411]]\n",
      "Recall: 0.7527472527472527\n",
      "precision: 0.5061576354679803\n",
      "F1-score: 0.605301914580265\n",
      "Fbeta-score: 0.5416447021613073\n",
      "              precision    recall  f1-score   support\n",
      "\n",
      "           0       0.98      0.95      0.97      8262\n",
      "           1       0.51      0.75      0.61       546\n",
      "\n",
      "    accuracy                           0.94      8808\n",
      "   macro avg       0.74      0.85      0.79      8808\n",
      "weighted avg       0.95      0.94      0.94      8808\n",
      "\n",
      "---------------------------------\n",
      "using RF: \n",
      "Training Accuracy :0.9673015745177788\n",
      "Testing Accuracy :0.9436875567665758\n",
      "Confusion matrix:\n",
      " [[7910  352]\n",
      " [ 144  402]]\n",
      "Recall: 0.7362637362637363\n",
      "precision: 0.53315649867374\n",
      "F1-score: 0.6184615384615385\n",
      "Fbeta-score: 0.5642897248736665\n",
      "              precision    recall  f1-score   support\n",
      "\n",
      "           0       0.98      0.96      0.97      8262\n",
      "           1       0.53      0.74      0.62       546\n",
      "\n",
      "    accuracy                           0.94      8808\n",
      "   macro avg       0.76      0.85      0.79      8808\n",
      "weighted avg       0.95      0.94      0.95      8808\n",
      "\n",
      "---------------------------------\n"
     ]
    }
   ],
   "source": [
    "for name,model in  models.items():\n",
    "    print(f'using {name}: ')\n",
    "    model.fit(x_train_over_sampled,y_train_over_sampled)\n",
    "    y_pred=model.predict(x_test)\n",
    "    print(f'Training Accuracy :{accuracy_score(y_train_over_sampled,model.predict(x_train_over_sampled))}')\n",
    "    print(f'Testing Accuracy :{accuracy_score(y_test,y_pred)}')\n",
    "    print(f'Confusion matrix:\\n {confusion_matrix(y_test,y_pred)}')\n",
    "    print(f'Recall: {recall_score(y_test,y_pred)}')\n",
    "    print(f'precision: {precision_score(y_test,y_pred)}')\n",
    "    print(f'F1-score: {f1_score(y_test,y_pred)}')\n",
    "    print(f'Fbeta-score: {fbeta_score(y_test,y_pred,beta=0.5)}')\n",
    "    print(classification_report(y_test,y_pred))\n",
    "    print('-'*33)\n",
    "    "
   ]
  },
  {
   "cell_type": "markdown",
   "metadata": {},
   "source": [
    "## Cross-Validation"
   ]
  },
  {
   "cell_type": "code",
   "execution_count": 38,
   "metadata": {},
   "outputs": [
    {
     "data": {
      "text/plain": [
       "{'fit_time': array([0.06105161, 0.05004048, 0.06005144, 0.05704641, 0.05304241,\n",
       "        0.05404377, 0.05104327, 0.04103827, 0.05704808, 0.0550468 ]),\n",
       " 'score_time': array([0.00300646, 0.00300193, 0.00300455, 0.00300503, 0.00300288,\n",
       "        0.00300264, 0.00200152, 0.00300407, 0.00300431, 0.00300431]),\n",
       " 'test_score': array([0.96792506, 0.96423503, 0.96423503, 0.96253193, 0.95912575,\n",
       "        0.9577065 , 0.95628726, 0.94578484, 0.9577065 , 0.95202952]),\n",
       " 'train_score': array([0.99189453, 0.99230454, 0.99224146, 0.99230454, 0.99271454,\n",
       "        0.99255685, 0.99233608, 0.99252531, 0.99239915, 0.99255685])}"
      ]
     },
     "execution_count": 38,
     "metadata": {},
     "output_type": "execute_result"
    }
   ],
   "source": [
    "model=DecisionTreeClassifier(random_state=42)\n",
    "CV_result=cross_validate(model,x,y,cv=10,n_jobs=-1,return_train_score=True)\n",
    "CV_result"
   ]
  },
  {
   "cell_type": "code",
   "execution_count": 39,
   "metadata": {},
   "outputs": [
    {
     "data": {
      "text/plain": [
       "0.958756741413568"
      ]
     },
     "execution_count": 39,
     "metadata": {},
     "output_type": "execute_result"
    }
   ],
   "source": [
    "CV_result['test_score'].mean()"
   ]
  },
  {
   "cell_type": "code",
   "execution_count": 40,
   "metadata": {},
   "outputs": [
    {
     "data": {
      "text/plain": [
       "{'fit_time': array([7.74404979, 7.74805427, 7.75205922, 7.76707244, 7.75305963,\n",
       "        7.56788898, 7.78208637, 7.80610967, 7.87316465, 7.46379828]),\n",
       " 'score_time': array([1.250139  , 1.10400486, 1.10500503, 1.14404154, 1.081985  ,\n",
       "        1.16005707, 1.12802768, 1.06396794, 1.085989  , 1.10000205]),\n",
       " 'test_score': array([0.97331819, 0.97672438, 0.97133125, 0.97246665, 0.96622197,\n",
       "        0.96338348, 0.96423503, 0.95401646, 0.96565427, 0.95515186]),\n",
       " 'train_score': array([0.96751506, 0.96685275, 0.96732583, 0.96745198, 0.96836661,\n",
       "        0.96808276, 0.96798814, 0.9679566 , 0.96760968, 0.96896584])}"
      ]
     },
     "execution_count": 40,
     "metadata": {},
     "output_type": "execute_result"
    }
   ],
   "source": [
    "model=SVC(random_state=42)\n",
    "CV_result=cross_validate(model,x,y,cv=10,n_jobs=-1,return_train_score=True)\n",
    "CV_result"
   ]
  },
  {
   "cell_type": "code",
   "execution_count": 41,
   "metadata": {},
   "outputs": [
    {
     "data": {
      "text/plain": [
       "0.9662503548112404"
      ]
     },
     "execution_count": 41,
     "metadata": {},
     "output_type": "execute_result"
    }
   ],
   "source": [
    "CV_result['test_score'].mean()"
   ]
  },
  {
   "cell_type": "code",
   "execution_count": 42,
   "metadata": {},
   "outputs": [
    {
     "data": {
      "text/plain": [
       "{'fit_time': array([1.54540992, 1.56242228, 1.51437712, 1.59845352, 1.56042051,\n",
       "        1.58043742, 1.5424037 , 1.53739953, 1.61546898, 1.49836349]),\n",
       " 'score_time': array([0.05404472, 0.0570507 , 0.05705285, 0.05605173, 0.04604006,\n",
       "        0.04904461, 0.04904485, 0.0570507 , 0.04904604, 0.05505204]),\n",
       " 'test_score': array([0.97019586, 0.96849276, 0.9710474 , 0.96877661, 0.96508657,\n",
       "        0.96338348, 0.96054499, 0.95628726, 0.97019586, 0.96139654]),\n",
       " 'train_score': array([0.991863  , 0.99224146, 0.99220992, 0.992273  , 0.992683  ,\n",
       "        0.99255685, 0.99233608, 0.99249377, 0.99239915, 0.99255685])}"
      ]
     },
     "execution_count": 42,
     "metadata": {},
     "output_type": "execute_result"
    }
   ],
   "source": [
    "model=RandomForestClassifier(random_state=42)\n",
    "CV_result=cross_validate(model,x,y,cv=10,n_jobs=-1,return_train_score=True)\n",
    "CV_result"
   ]
  },
  {
   "cell_type": "code",
   "execution_count": 43,
   "metadata": {},
   "outputs": [
    {
     "data": {
      "text/plain": [
       "0.9655407323304003"
      ]
     },
     "execution_count": 43,
     "metadata": {},
     "output_type": "execute_result"
    }
   ],
   "source": [
    "CV_result['test_score'].mean()"
   ]
  },
  {
   "cell_type": "code",
   "execution_count": 44,
   "metadata": {},
   "outputs": [],
   "source": [
    "model1=GaussianNB()\n",
    "model1.fit(x_train_over_sampled,y_train_over_sampled)\n",
    "y_pred=model1.predict(x_test)"
   ]
  },
  {
   "cell_type": "code",
   "execution_count": 45,
   "metadata": {},
   "outputs": [
    {
     "data": {
      "image/png": "[encoded data removed]",
      "text/plain": [
       "<Figure size 1080x432 with 4 Axes>"
      ]
     },
     "metadata": {
      "needs_background": "light"
     },
     "output_type": "display_data"
    }
   ],
   "source": [
    "warnings.filterwarnings(\"ignore\")\n",
    "fig = plt.figure(figsize=(15,6))\n",
    "\n",
    "ax1 = fig.add_subplot(121)\n",
    "skplt.metrics.plot_confusion_matrix(y_test, y_pred,\n",
    "                                    title=\"Confusion Matrix\",\n",
    "                                    cmap=\"Blues\",\n",
    "                                    ax=ax1)\n",
    "\n",
    "ax2 = fig.add_subplot(122)\n",
    "skplt.metrics.plot_confusion_matrix(y_test, y_pred,\n",
    "                                    normalize=True,\n",
    "                                    title=\"Confusion Matrix\",\n",
    "                                    cmap=\"Reds\",\n",
    "                                    ax=ax2);"
   ]
  },
  {
   "cell_type": "code",
   "execution_count": 46,
   "metadata": {},
   "outputs": [
    {
     "data": {
      "text/plain": [
       "<matplotlib.axes._subplots.AxesSubplot at 0x215685c6d88>"
      ]
     },
     "execution_count": 46,
     "metadata": {},
     "output_type": "execute_result"
    },
    {
     "data": {
      "image/png": "[encoded data removed]",
      "text/plain": [
       "<Figure size 504x504 with 1 Axes>"
      ]
     },
     "metadata": {
      "needs_background": "light"
     },
     "output_type": "display_data"
    }
   ],
   "source": [
    "y_gbc_proba = model1.predict_proba(x_test)\n",
    "fig, ax = plt.subplots(figsize=(7, 7))\n",
    "skplt.metrics.plot_roc(y_test, y_gbc_proba, title = 'ROC Plot for NB over-sampled',ax=ax)"
   ]
  },
  {
   "cell_type": "code",
   "execution_count": 47,
   "metadata": {},
   "outputs": [
    {
     "data": {
      "text/plain": [
       "<matplotlib.axes._subplots.AxesSubplot at 0x21568787188>"
      ]
     },
     "execution_count": 47,
     "metadata": {},
     "output_type": "execute_result"
    },
    {
     "data": {
      "image/png": "[encoded data removed]",
      "text/plain": [
       "<Figure size 504x504 with 1 Axes>"
      ]
     },
     "metadata": {
      "needs_background": "light"
     },
     "output_type": "display_data"
    }
   ],
   "source": [
    "fig, ax = plt.subplots(figsize=(7, 7))\n",
    "skplt.metrics.plot_precision_recall(y_test, y_gbc_proba, title = 'PR Curve for over-sampled',ax=ax)"
   ]
  },
  {
   "cell_type": "markdown",
   "metadata": {},
   "source": [
    "# Trying Under-sampling to fix imbalanced classes"
   ]
  },
  {
   "cell_type": "code",
   "execution_count": 32,
   "metadata": {},
   "outputs": [],
   "source": [
    "x_train,x_test,y_train,y_test=train_test_split(x,y,test_size=0.25)"
   ]
  },
  {
   "cell_type": "code",
   "execution_count": 33,
   "metadata": {},
   "outputs": [],
   "source": [
    "rus=RandomUnderSampler()\n",
    "x_train_under_sampled, y_train_under_sampled=rus.fit_resample(x_train,y_train)"
   ]
  },
  {
   "cell_type": "code",
   "execution_count": 34,
   "metadata": {},
   "outputs": [
    {
     "data": {
      "text/plain": [
       "1    1622\n",
       "0    1622\n",
       "Name: Paid, dtype: int64"
      ]
     },
     "execution_count": 34,
     "metadata": {},
     "output_type": "execute_result"
    }
   ],
   "source": [
    "y_train_under_sampled.value_counts()"
   ]
  },
  {
   "cell_type": "code",
   "execution_count": 36,
   "metadata": {},
   "outputs": [
    {
     "data": {
      "text/plain": [
       "array([[-0.30092059, -0.74531364, -0.54770461, ..., -0.46909979,\n",
       "        -0.56389827, -0.4258858 ],\n",
       "       [-0.30092059, -0.74531364, -0.54770461, ..., -0.46909979,\n",
       "        -0.56389827, -0.4258858 ],\n",
       "       [-0.30092059, -0.74531364, -0.54770461, ..., -0.46909979,\n",
       "        -0.56389827, -0.4258858 ],\n",
       "       ...,\n",
       "       [-0.30092059,  0.52487152,  0.50311082, ...,  0.23894242,\n",
       "         1.03666696,  0.01233921],\n",
       "       [-0.30092059, -0.11022106,  0.32797491, ..., -0.46909979,\n",
       "         0.23638434, -0.41439138],\n",
       "       [-0.30092059, -0.11022106, -0.08067553, ..., -0.11507869,\n",
       "         0.39644086, -0.37272408]])"
      ]
     },
     "execution_count": 36,
     "metadata": {},
     "output_type": "execute_result"
    }
   ],
   "source": [
    "scaler2=StandardScaler()\n",
    "scaler2.fit(x_train_under_sampled)\n",
    "x_train_under_sampled=scaler2.transform(x_train_under_sampled)\n",
    "x_test=scaler2.transform(x_test)\n",
    "x_train_under_sampled"
   ]
  },
  {
   "cell_type": "code",
   "execution_count": 39,
   "metadata": {},
   "outputs": [
    {
     "name": "stdout",
     "output_type": "stream",
     "text": [
      "using LR: \n",
      "Training Accuracy :0.8853267570900123\n",
      "Testing Accuracy :0.9425522252497729\n",
      "Confusion matrix:\n",
      " [[7893  402]\n",
      " [ 104  409]]\n",
      "Recall: 0.797270955165692\n",
      "precision: 0.5043156596794082\n",
      "F1-score: 0.6178247734138973\n",
      "Fbeta-score: 0.5443172744210807\n",
      "              precision    recall  f1-score   support\n",
      "\n",
      "           0       0.99      0.95      0.97      8295\n",
      "           1       0.50      0.80      0.62       513\n",
      "\n",
      "    accuracy                           0.94      8808\n",
      "   macro avg       0.75      0.87      0.79      8808\n",
      "weighted avg       0.96      0.94      0.95      8808\n",
      "\n",
      "---------------------------------\n",
      "using KNN: \n",
      "Training Accuracy :0.906596794081381\n",
      "Testing Accuracy :0.9133742052679382\n",
      "Confusion matrix:\n",
      " [[7616  679]\n",
      " [  84  429]]\n",
      "Recall: 0.8362573099415205\n",
      "precision: 0.3871841155234657\n",
      "F1-score: 0.5293028994447871\n",
      "Fbeta-score: 0.4337714863498483\n",
      "              precision    recall  f1-score   support\n",
      "\n",
      "           0       0.99      0.92      0.95      8295\n",
      "           1       0.39      0.84      0.53       513\n",
      "\n",
      "    accuracy                           0.91      8808\n",
      "   macro avg       0.69      0.88      0.74      8808\n",
      "weighted avg       0.95      0.91      0.93      8808\n",
      "\n",
      "---------------------------------\n",
      "using DT: \n",
      "Training Accuracy :0.9620838471023427\n",
      "Testing Accuracy :0.8970254314259763\n",
      "Confusion matrix:\n",
      " [[7489  806]\n",
      " [ 101  412]]\n",
      "Recall: 0.8031189083820662\n",
      "precision: 0.33825944170771755\n",
      "F1-score: 0.47602541883304444\n",
      "Fbeta-score: 0.38254410399257194\n",
      "              precision    recall  f1-score   support\n",
      "\n",
      "           0       0.99      0.90      0.94      8295\n",
      "           1       0.34      0.80      0.48       513\n",
      "\n",
      "    accuracy                           0.90      8808\n",
      "   macro avg       0.66      0.85      0.71      8808\n",
      "weighted avg       0.95      0.90      0.92      8808\n",
      "\n",
      "---------------------------------\n",
      "using SVC: \n",
      "Training Accuracy :0.8865598027127004\n",
      "Testing Accuracy :0.9367620345140781\n",
      "Confusion matrix:\n",
      " [[7838  457]\n",
      " [ 100  413]]\n",
      "Recall: 0.8050682261208577\n",
      "precision: 0.4747126436781609\n",
      "F1-score: 0.5972523499638467\n",
      "Fbeta-score: 0.5171550212872527\n",
      "              precision    recall  f1-score   support\n",
      "\n",
      "           0       0.99      0.94      0.97      8295\n",
      "           1       0.47      0.81      0.60       513\n",
      "\n",
      "    accuracy                           0.94      8808\n",
      "   macro avg       0.73      0.87      0.78      8808\n",
      "weighted avg       0.96      0.94      0.94      8808\n",
      "\n",
      "---------------------------------\n",
      "using NB: \n",
      "Training Accuracy :0.8492601726263872\n",
      "Testing Accuracy :0.9619663941871026\n",
      "Confusion matrix:\n",
      " [[8114  181]\n",
      " [ 154  359]]\n",
      "Recall: 0.6998050682261209\n",
      "precision: 0.6648148148148149\n",
      "F1-score: 0.6818613485280153\n",
      "Fbeta-score: 0.6715301159745604\n",
      "              precision    recall  f1-score   support\n",
      "\n",
      "           0       0.98      0.98      0.98      8295\n",
      "           1       0.66      0.70      0.68       513\n",
      "\n",
      "    accuracy                           0.96      8808\n",
      "   macro avg       0.82      0.84      0.83      8808\n",
      "weighted avg       0.96      0.96      0.96      8808\n",
      "\n",
      "---------------------------------\n",
      "using XGC: \n",
      "[16:47:35] WARNING: C:/Users/Administrator/workspace/xgboost-win64_release_1.5.1/src/learner.cc:1115: Starting in XGBoost 1.3.0, the default evaluation metric used with the objective 'binary:logistic' was changed from 'error' to 'logloss'. Explicitly set eval_metric if you'd like to restore the old behavior.\n",
      "Training Accuracy :0.9435881627620222"
     ]
    },
    {
     "name": "stderr",
     "output_type": "stream",
     "text": [
      "C:\\Users\\101\\anaconda3\\lib\\site-packages\\xgboost\\sklearn.py:1224: UserWarning: The use of label encoder in XGBClassifier is deprecated and will be removed in a future release. To remove this warning, do the following: 1) Pass option use_label_encoder=False when constructing XGBClassifier object; and 2) Encode your labels (y) as integers starting with 0, i.e. 0, 1, 2, ..., [num_class - 1].\n",
      "  warnings.warn(label_encoder_deprecation_msg, UserWarning)\n"
     ]
    },
    {
     "name": "stdout",
     "output_type": "stream",
     "text": [
      "\n",
      "Testing Accuracy :0.9005449591280654\n",
      "Confusion matrix:\n",
      " [[7506  789]\n",
      " [  87  426]]\n",
      "Recall: 0.8304093567251462\n",
      "precision: 0.3506172839506173\n",
      "F1-score: 0.4930555555555556\n",
      "Fbeta-score: 0.3964265773311\n",
      "              precision    recall  f1-score   support\n",
      "\n",
      "           0       0.99      0.90      0.94      8295\n",
      "           1       0.35      0.83      0.49       513\n",
      "\n",
      "    accuracy                           0.90      8808\n",
      "   macro avg       0.67      0.87      0.72      8808\n",
      "weighted avg       0.95      0.90      0.92      8808\n",
      "\n",
      "---------------------------------\n",
      "using RF: \n",
      "Training Accuracy :0.9620838471023427\n",
      "Testing Accuracy :0.8919164396003633\n",
      "Confusion matrix:\n",
      " [[7427  868]\n",
      " [  84  429]]\n",
      "Recall: 0.8362573099415205\n",
      "precision: 0.330763299922899\n",
      "F1-score: 0.4740331491712707\n",
      "Fbeta-score: 0.37624978074022103\n",
      "              precision    recall  f1-score   support\n",
      "\n",
      "           0       0.99      0.90      0.94      8295\n",
      "           1       0.33      0.84      0.47       513\n",
      "\n",
      "    accuracy                           0.89      8808\n",
      "   macro avg       0.66      0.87      0.71      8808\n",
      "weighted avg       0.95      0.89      0.91      8808\n",
      "\n",
      "---------------------------------\n"
     ]
    }
   ],
   "source": [
    "for name,model in  models.items():\n",
    "    print(f'using {name}: ')\n",
    "    model.fit(x_train_under_sampled,y_train_under_sampled)\n",
    "    y_pred=model.predict(x_test)\n",
    "    print(f'Training Accuracy :{accuracy_score(y_train_under_sampled,model.predict(x_train_under_sampled))}')\n",
    "    print(f'Testing Accuracy :{accuracy_score(y_test,y_pred)}')\n",
    "    print(f'Confusion matrix:\\n {confusion_matrix(y_test,y_pred)}')\n",
    "    print(f'Recall: {recall_score(y_test,y_pred)}')\n",
    "    print(f'precision: {precision_score(y_test,y_pred)}')\n",
    "    print(f'F1-score: {f1_score(y_test,y_pred)}')\n",
    "    print(f'Fbeta-score: {fbeta_score(y_test,y_pred,beta=0.5)}')\n",
    "    print(classification_report(y_test,y_pred))\n",
    "    print('-'*33)\n",
    "    "
   ]
  },
  {
   "cell_type": "code",
   "execution_count": 40,
   "metadata": {},
   "outputs": [
    {
     "data": {
      "text/plain": [
       "{'fit_time': array([0.05404711, 0.05402994, 0.04702139, 0.05404902, 0.06405663,\n",
       "        0.04203701, 0.05004168, 0.06906223, 0.05304933, 0.05205274]),\n",
       " 'score_time': array([0.00300288, 0.00300431, 0.00300407, 0.00300193, 0.00300384,\n",
       "        0.00400376, 0.00400448, 0.01501799, 0.00500393, 0.00399947]),\n",
       " 'test_score': array([0.96792506, 0.96423503, 0.96423503, 0.96253193, 0.95912575,\n",
       "        0.9577065 , 0.95628726, 0.94578484, 0.9577065 , 0.95202952]),\n",
       " 'train_score': array([0.99189453, 0.99230454, 0.99224146, 0.99230454, 0.99271454,\n",
       "        0.99255685, 0.99233608, 0.99252531, 0.99239915, 0.99255685])}"
      ]
     },
     "execution_count": 40,
     "metadata": {},
     "output_type": "execute_result"
    }
   ],
   "source": [
    "model=DecisionTreeClassifier(random_state=42)\n",
    "CV_result=cross_validate(model,x,y,cv=10,n_jobs=-1,return_train_score=True)\n",
    "CV_result"
   ]
  },
  {
   "cell_type": "code",
   "execution_count": 41,
   "metadata": {},
   "outputs": [
    {
     "data": {
      "text/plain": [
       "0.958756741413568"
      ]
     },
     "execution_count": 41,
     "metadata": {},
     "output_type": "execute_result"
    }
   ],
   "source": [
    "CV_result['test_score'].mean()"
   ]
  },
  {
   "cell_type": "code",
   "execution_count": 42,
   "metadata": {},
   "outputs": [
    {
     "data": {
      "text/plain": [
       "{'fit_time': array([7.38972735, 7.25759721, 7.31865883, 7.22057533, 7.31165266,\n",
       "        7.15150237, 7.46178913, 7.3216629 , 7.5498693 , 7.05542111]),\n",
       " 'score_time': array([1.15305066, 1.07097626, 1.10000229, 1.14904881, 1.10100341,\n",
       "        1.06196594, 1.11801887, 0.98889947, 1.1090107 , 1.14904642]),\n",
       " 'test_score': array([0.97331819, 0.97672438, 0.97133125, 0.97246665, 0.96622197,\n",
       "        0.96338348, 0.96423503, 0.95401646, 0.96565427, 0.95515186]),\n",
       " 'train_score': array([0.96751506, 0.96685275, 0.96732583, 0.96745198, 0.96836661,\n",
       "        0.96808276, 0.96798814, 0.9679566 , 0.96760968, 0.96896584])}"
      ]
     },
     "execution_count": 42,
     "metadata": {},
     "output_type": "execute_result"
    }
   ],
   "source": [
    "model=SVC(random_state=42)\n",
    "CV_result=cross_validate(model,x,y,cv=10,n_jobs=-1,return_train_score=True)\n",
    "CV_result"
   ]
  },
  {
   "cell_type": "code",
   "execution_count": 43,
   "metadata": {},
   "outputs": [
    {
     "data": {
      "text/plain": [
       "0.9662503548112404"
      ]
     },
     "execution_count": 43,
     "metadata": {},
     "output_type": "execute_result"
    }
   ],
   "source": [
    "CV_result['test_score'].mean()"
   ]
  },
  {
   "cell_type": "code",
   "execution_count": 44,
   "metadata": {},
   "outputs": [
    {
     "data": {
      "text/plain": [
       "{'fit_time': array([1.50136733, 1.52439117, 1.51638269, 1.56942892, 1.52639318,\n",
       "        1.56442475, 1.54941177, 1.46433401, 1.5313952 , 1.4623332 ]),\n",
       " 'score_time': array([0.04303932, 0.05304599, 0.04704022, 0.05104542, 0.05204415,\n",
       "        0.04503942, 0.05204582, 0.05706048, 0.04504013, 0.05605173]),\n",
       " 'test_score': array([0.97019586, 0.96849276, 0.9710474 , 0.96877661, 0.96508657,\n",
       "        0.96338348, 0.96054499, 0.95628726, 0.97019586, 0.96139654]),\n",
       " 'train_score': array([0.991863  , 0.99224146, 0.99220992, 0.992273  , 0.992683  ,\n",
       "        0.99255685, 0.99233608, 0.99249377, 0.99239915, 0.99255685])}"
      ]
     },
     "execution_count": 44,
     "metadata": {},
     "output_type": "execute_result"
    }
   ],
   "source": [
    "model=RandomForestClassifier(random_state=42)\n",
    "CV_result=cross_validate(model,x,y,cv=10,n_jobs=-1,return_train_score=True)\n",
    "CV_result"
   ]
  },
  {
   "cell_type": "code",
   "execution_count": 45,
   "metadata": {},
   "outputs": [
    {
     "data": {
      "text/plain": [
       "0.9655407323304003"
      ]
     },
     "execution_count": 45,
     "metadata": {},
     "output_type": "execute_result"
    }
   ],
   "source": [
    "CV_result['test_score'].mean()"
   ]
  },
  {
   "cell_type": "code",
   "execution_count": 46,
   "metadata": {},
   "outputs": [],
   "source": [
    "model2=GaussianNB()\n",
    "model2.fit(x_train_under_sampled,y_train_under_sampled)\n",
    "y_pred=model2.predict(x_test)"
   ]
  },
  {
   "cell_type": "code",
   "execution_count": 47,
   "metadata": {},
   "outputs": [
    {
     "data": {
      "image/png": "[encoded data removed]",
      "text/plain": [
       "<Figure size 1080x432 with 4 Axes>"
      ]
     },
     "metadata": {
      "needs_background": "light"
     },
     "output_type": "display_data"
    }
   ],
   "source": [
    "warnings.filterwarnings(\"ignore\")\n",
    "fig = plt.figure(figsize=(15,6))\n",
    "\n",
    "ax1 = fig.add_subplot(121)\n",
    "skplt.metrics.plot_confusion_matrix(y_test, y_pred,\n",
    "                                    title=\"Confusion Matrix\",\n",
    "                                    cmap=\"Blues\",\n",
    "                                    ax=ax1)\n",
    "\n",
    "ax2 = fig.add_subplot(122)\n",
    "skplt.metrics.plot_confusion_matrix(y_test, y_pred,\n",
    "                                    normalize=True,\n",
    "                                    title=\"Confusion Matrix\",\n",
    "                                    cmap=\"Reds\",\n",
    "                                    ax=ax2);"
   ]
  },
  {
   "cell_type": "code",
   "execution_count": 48,
   "metadata": {},
   "outputs": [],
   "source": [
    "y_gbc_proba = model2.predict_proba(x_test)"
   ]
  },
  {
   "cell_type": "code",
   "execution_count": 49,
   "metadata": {},
   "outputs": [
    {
     "data": {
      "text/plain": [
       "<matplotlib.axes._subplots.AxesSubplot at 0x1b0125f1e88>"
      ]
     },
     "execution_count": 49,
     "metadata": {},
     "output_type": "execute_result"
    },
    {
     "data": {
      "image/png": "[encoded data removed]",
      "text/plain": [
       "<Figure size 504x504 with 1 Axes>"
      ]
     },
     "metadata": {
      "needs_background": "light"
     },
     "output_type": "display_data"
    }
   ],
   "source": [
    "fig, ax = plt.subplots(figsize=(7, 7))\n",
    "skplt.metrics.plot_roc(y_test, y_gbc_proba, title = 'ROC Plot for NB under-sampled',ax=ax)"
   ]
  },
  {
   "cell_type": "code",
   "execution_count": 50,
   "metadata": {},
   "outputs": [
    {
     "data": {
      "text/plain": [
       "<matplotlib.axes._subplots.AxesSubplot at 0x1b01b000a48>"
      ]
     },
     "execution_count": 50,
     "metadata": {},
     "output_type": "execute_result"
    },
    {
     "data": {
      "image/png": "[encoded data removed]",
      "text/plain": [
       "<Figure size 504x504 with 1 Axes>"
      ]
     },
     "metadata": {
      "needs_background": "light"
     },
     "output_type": "display_data"
    }
   ],
   "source": [
    "fig, ax = plt.subplots(figsize=(7, 7))\n",
    "skplt.metrics.plot_precision_recall(y_test, y_gbc_proba, title = 'PR Curve for NB under-sampled',ax=ax)"
   ]
  },
  {
   "cell_type": "markdown",
   "metadata": {},
   "source": [
    "## As we saw , over-sampling data gave us better overall result's , I choosed naive_bayes as  our model as it gave us the best accuracy & F1-score "
   ]
  },
  {
   "cell_type": "markdown",
   "metadata": {},
   "source": [
    "## Saving the model for deployment"
   ]
  },
  {
   "cell_type": "code",
   "execution_count": null,
   "metadata": {},
   "outputs": [],
   "source": [
    "import joblib\n",
    "joblib.dump(model1,'model.h5')\n",
    "joblib.dump(scaler1,'scaler.h5')"
   ]
  },
  {
   "cell_type": "code",
   "execution_count": null,
   "metadata": {},
   "outputs": [],
   "source": []
  },
  {
   "cell_type": "code",
   "execution_count": null,
   "metadata": {},
   "outputs": [],
   "source": []
  },
  {
   "cell_type": "code",
   "execution_count": null,
   "metadata": {},
   "outputs": [],
   "source": []
  },
  {
   "cell_type": "code",
   "execution_count": null,
   "metadata": {},
   "outputs": [],
   "source": []
  }
 ],
 "metadata": {
  "kernelspec": {
   "display_name": "Python 3",
   "language": "python",
   "name": "python3"
  },
  "language_info": {
   "codemirror_mode": {
    "name": "ipython",
    "version": 3
   },
   "file_extension": ".py",
   "mimetype": "text/x-python",
   "name": "python",
   "nbconvert_exporter": "python",
   "pygments_lexer": "ipython3",
   "version": "3.7.6"
  }
 },
 "nbformat": 4,
 "nbformat_minor": 4
}
